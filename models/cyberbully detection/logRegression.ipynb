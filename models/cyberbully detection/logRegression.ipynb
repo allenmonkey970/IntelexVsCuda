{
 "cells": [
  {
   "metadata": {
    "ExecuteTime": {
     "end_time": "2025-03-15T00:43:56.205680Z",
     "start_time": "2025-03-15T00:43:54.322861Z"
    }
   },
   "cell_type": "code",
   "source": [
    "import pandas as pd\n",
    "import numpy as np\n",
    "from sklearn.feature_extraction.text import TfidfVectorizer\n",
    "from sklearn.model_selection import train_test_split\n",
    "from sklearn.preprocessing import LabelEncoder\n",
    "from sklearn.linear_model import LogisticRegression\n",
    "from sklearn.metrics import classification_report\n",
    "from sklearnex import patch_sklearn\n",
    "import cupy as cp"
   ],
   "id": "330d57a93ea01364",
   "outputs": [],
   "execution_count": 1
  },
  {
   "cell_type": "code",
   "id": "initial_id",
   "metadata": {
    "collapsed": true,
    "ExecuteTime": {
     "end_time": "2025-03-15T00:43:57.369823Z",
     "start_time": "2025-03-15T00:43:56.212461Z"
    }
   },
   "source": [
    "def mainBareBones():\n",
    "    # Load the dataset\n",
    "    data = pd.read_csv('final_hateXplain.csv', dtype={\n",
    "        'comment': 'string',  \n",
    "        'label': 'category', \n",
    "        'Race': 'category',\n",
    "        'Religion': 'category',\n",
    "        'Gender': 'category',\n",
    "        'Sexual Orientation': 'category',\n",
    "        'Miscellaneous': 'category'\n",
    "    })\n",
    "\n",
    "    # Preprocessing\n",
    "    # Fill missing values in the 'comment' column\n",
    "    data['comment'] = data['comment'].fillna('')\n",
    "\n",
    "    # Encode the 'label' column (e.g., normal, offensive, hatespeech)\n",
    "    label_encoder = LabelEncoder()\n",
    "    data['label'] = label_encoder.fit_transform(data['label'])\n",
    "\n",
    "    # TF-IDF Vectorization for the 'comment' column\n",
    "    tfidf = TfidfVectorizer(max_features=5000)\n",
    "    X = tfidf.fit_transform(data['comment'])\n",
    "\n",
    "    # Target variable\n",
    "    y = data['label']\n",
    "\n",
    "    # Train-test split\n",
    "    X_train, X_test, y_train, y_test = train_test_split(X, y, test_size=0.2, random_state=42)\n",
    "\n",
    "    # Logistic Regression Model\n",
    "    model = LogisticRegression(max_iter=1000)\n",
    "    model.fit(X_train, y_train)\n",
    "\n",
    "    # Predictions on test data\n",
    "    y_pred = model.predict(X_test)\n",
    "\n",
    "    # Evaluation\n",
    "    print(classification_report(y_test, y_pred, target_names=label_encoder.classes_))\n",
    "\n",
    "if __name__ == \"__main__\":\n",
    "    mainBareBones()\n"
   ],
   "outputs": [
    {
     "name": "stdout",
     "output_type": "stream",
     "text": [
      "              precision    recall  f1-score   support\n",
      "\n",
      "  hatespeech       0.72      0.68      0.70      1325\n",
      "      normal       0.61      0.77      0.68      1502\n",
      "   offensive       0.55      0.41      0.47      1195\n",
      "\n",
      "    accuracy                           0.63      4022\n",
      "   macro avg       0.63      0.62      0.61      4022\n",
      "weighted avg       0.63      0.63      0.62      4022\n",
      "\n"
     ]
    }
   ],
   "execution_count": 2
  },
  {
   "metadata": {
    "ExecuteTime": {
     "end_time": "2025-03-15T00:43:58.894020Z",
     "start_time": "2025-03-15T00:43:57.536027Z"
    }
   },
   "cell_type": "code",
   "source": [
    "def mainCuPY():\n",
    "    # Load the dataset\n",
    "    data = pd.read_csv('final_hateXplain.csv', dtype={\n",
    "        'comment': 'string',  \n",
    "        'label': 'category', \n",
    "        'Race': 'category',\n",
    "        'Religion': 'category',\n",
    "        'Gender': 'category',\n",
    "        'Sexual Orientation': 'category',\n",
    "        'Miscellaneous': 'category'\n",
    "    })\n",
    "\n",
    "    # Preprocessing\n",
    "    # Fill missing values in the 'comment' column\n",
    "    data['comment'] = data['comment'].fillna('')\n",
    "\n",
    "    # Encode the 'label' column (e.g., normal, offensive, hatespeech)\n",
    "    label_encoder = LabelEncoder()\n",
    "    data['label'] = label_encoder.fit_transform(data['label'])\n",
    "\n",
    "    tfidf = TfidfVectorizer(max_features=5000) \n",
    "    X = tfidf.fit_transform(data['comment'])\n",
    "\n",
    "   \n",
    "    X = cp.sparse.csr_matrix(X)\n",
    "\n",
    "    # Target variable\n",
    "    y = cp.asarray(data['label'])\n",
    "\n",
    "    # Train-test split\n",
    "    X_train, X_test, y_train, y_test = train_test_split(X, y, test_size=0.2, random_state=42)\n",
    "\n",
    "    model = LogisticRegression(max_iter=1000)  \n",
    "    model.fit(X_train.get(), y_train.get())\n",
    "\n",
    "    # Predictions on test data\n",
    "    y_pred = model.predict(X_test.get())\n",
    "\n",
    "    # Evaluation\n",
    "    print(classification_report(y_test.get(), y_pred, target_names=label_encoder.classes_))\n",
    "\n",
    "if __name__ == \"__main__\":\n",
    "    mainCuPY()\n"
   ],
   "id": "ed57ecb997497029",
   "outputs": [
    {
     "name": "stdout",
     "output_type": "stream",
     "text": [
      "              precision    recall  f1-score   support\n",
      "\n",
      "  hatespeech       0.72      0.68      0.70      1325\n",
      "      normal       0.61      0.77      0.68      1502\n",
      "   offensive       0.55      0.41      0.47      1195\n",
      "\n",
      "    accuracy                           0.63      4022\n",
      "   macro avg       0.63      0.62      0.61      4022\n",
      "weighted avg       0.63      0.63      0.62      4022\n",
      "\n"
     ]
    }
   ],
   "execution_count": 3
  },
  {
   "metadata": {
    "ExecuteTime": {
     "end_time": "2025-03-15T00:43:58.962789Z",
     "start_time": "2025-03-15T00:43:58.901006Z"
    }
   },
   "cell_type": "code",
   "source": [
    "# Apply Scikit-learn patches\n",
    "patch_sklearn()"
   ],
   "id": "df869c767001723",
   "outputs": [
    {
     "name": "stderr",
     "output_type": "stream",
     "text": [
      "Intel(R) Extension for Scikit-learn* enabled (https://github.com/intel/scikit-learn-intelex)\n"
     ]
    }
   ],
   "execution_count": 4
  },
  {
   "metadata": {
    "ExecuteTime": {
     "end_time": "2025-03-15T00:44:00.149997Z",
     "start_time": "2025-03-15T00:43:58.970221Z"
    }
   },
   "cell_type": "code",
   "source": [
    "def mainIntelex():\n",
    "    # Load the dataset\n",
    "    data = pd.read_csv('final_hateXplain.csv', dtype={\n",
    "        'comment': 'string',  \n",
    "        'label': 'category', \n",
    "        'Race': 'category',\n",
    "        'Religion': 'category',\n",
    "        'Gender': 'category',\n",
    "        'Sexual Orientation': 'category',\n",
    "        'Miscellaneous': 'category'\n",
    "    })\n",
    "\n",
    "    # Preprocessing\n",
    "    # Fill missing values in the 'comment' column\n",
    "    data['comment'] = data['comment'].fillna('')\n",
    "\n",
    "    # Encode the 'label' column (e.g., normal, offensive, hatespeech)\n",
    "    label_encoder = LabelEncoder()\n",
    "    data['label'] = label_encoder.fit_transform(data['label'])\n",
    "\n",
    "    # TF-IDF Vectorization for the 'comment' column\n",
    "    tfidf = TfidfVectorizer(max_features=5000)\n",
    "    X = tfidf.fit_transform(data['comment'])\n",
    "\n",
    "    # Target variable\n",
    "    y = data['label']\n",
    "\n",
    "    # Train-test split\n",
    "    X_train, X_test, y_train, y_test = train_test_split(X, y, test_size=0.2, random_state=42)\n",
    "\n",
    "    # Logistic Regression Model\n",
    "    model = LogisticRegression(max_iter=1000)\n",
    "    model.fit(X_train, y_train)\n",
    "\n",
    "    # Predictions on test data\n",
    "    y_pred = model.predict(X_test)\n",
    "\n",
    "    # Evaluation\n",
    "    print(classification_report(y_test, y_pred, target_names=label_encoder.classes_))\n",
    "\n",
    "if __name__ == \"__main__\":\n",
    "    mainIntelex()\n"
   ],
   "id": "afe5d888bda680b4",
   "outputs": [
    {
     "name": "stdout",
     "output_type": "stream",
     "text": [
      "              precision    recall  f1-score   support\n",
      "\n",
      "  hatespeech       0.72      0.68      0.70      1325\n",
      "      normal       0.61      0.77      0.68      1502\n",
      "   offensive       0.55      0.41      0.47      1195\n",
      "\n",
      "    accuracy                           0.63      4022\n",
      "   macro avg       0.63      0.62      0.61      4022\n",
      "weighted avg       0.63      0.63      0.62      4022\n",
      "\n"
     ]
    }
   ],
   "execution_count": 5
  },
  {
   "metadata": {
    "ExecuteTime": {
     "end_time": "2025-03-15T00:44:00.159698Z",
     "start_time": "2025-03-15T00:44:00.157667Z"
    }
   },
   "cell_type": "code",
   "source": "",
   "id": "ef37034e1d386da0",
   "outputs": [],
   "execution_count": null
  }
 ],
 "metadata": {
  "kernelspec": {
   "display_name": "Python 3",
   "language": "python",
   "name": "python3"
  },
  "language_info": {
   "codemirror_mode": {
    "name": "ipython",
    "version": 2
   },
   "file_extension": ".py",
   "mimetype": "text/x-python",
   "name": "python",
   "nbconvert_exporter": "python",
   "pygments_lexer": "ipython2",
   "version": "2.7.6"
  }
 },
 "nbformat": 4,
 "nbformat_minor": 5
}
