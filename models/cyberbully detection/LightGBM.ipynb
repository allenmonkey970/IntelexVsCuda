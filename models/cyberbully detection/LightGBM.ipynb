{
 "cells": [
  {
   "metadata": {
    "ExecuteTime": {
     "end_time": "2025-03-20T20:42:07.753018Z",
     "start_time": "2025-03-20T20:42:07.745264Z"
    }
   },
   "cell_type": "code",
   "source": [
    "import pandas as pd\n",
    "from sklearn.model_selection import train_test_split\n",
    "from sklearn.preprocessing import LabelEncoder\n",
    "from sklearn.feature_extraction.text import TfidfVectorizer\n",
    "from sklearn.metrics import classification_report\n",
    "from lightgbm import LGBMClassifier\n",
    "from cupyx.scipy.sparse import csr_matrix\n",
    "import warnings\n",
    "import cupy as cp\n",
    "from sklearnex import patch_sklearn"
   ],
   "id": "29bef26f9cecd7cf",
   "outputs": [],
   "execution_count": 19
  },
  {
   "cell_type": "code",
   "id": "initial_id",
   "metadata": {
    "collapsed": true,
    "ExecuteTime": {
     "end_time": "2025-03-20T20:42:17.019164Z",
     "start_time": "2025-03-20T20:42:13.410831Z"
    }
   },
   "source": [
    "#Suppress FutureWarnings\n",
    "warnings.filterwarnings(\"ignore\", category=FutureWarning)\n",
    "\n",
    "\n",
    "def mainBareBones():\n",
    "    # Load the dataset\n",
    "    data = pd.read_csv('final_hateXplain.csv', dtype={\n",
    "        'comment': 'string',\n",
    "        'label': 'category',\n",
    "        'Race': 'category',\n",
    "        'Religion': 'category',\n",
    "        'Gender': 'category',\n",
    "        'Sexual Orientation': 'category',\n",
    "        'Miscellaneous': 'category'\n",
    "    })\n",
    "\n",
    "    # Preprocessing\n",
    "    # Fill missing values in the 'comment' column\n",
    "    data['comment'] = data['comment'].fillna('')\n",
    "\n",
    "    # Encode the 'label' column (e.g., normal, offensive, hatespeech)\n",
    "    label_encoder = LabelEncoder()\n",
    "    data['label'] = label_encoder.fit_transform(data['label'])\n",
    "\n",
    "    # TF-IDF Vectorization for the 'comment' column\n",
    "    tfidf = TfidfVectorizer(max_features=5000)\n",
    "    X = tfidf.fit_transform(data['comment'])\n",
    "\n",
    "    # Target variable\n",
    "    y = data['label']\n",
    "\n",
    "    # Train-test split\n",
    "    X_train, X_test, y_train, y_test = train_test_split(X, y, test_size=0.2, random_state=42)\n",
    "\n",
    "    # LightGBM Classifier\n",
    "    model = LGBMClassifier(\n",
    "        objective='multiclass',\n",
    "        num_class=len(label_encoder.classes_),\n",
    "        random_state=42,\n",
    "        force_col_wise=True\n",
    "    )\n",
    "    model.fit(X_train, y_train)\n",
    "\n",
    "    # Predictions on test data\n",
    "    y_pred = model.predict(X_test)\n",
    "\n",
    "    # Evaluation\n",
    "    print(classification_report(y_test, y_pred, target_names=label_encoder.classes_))\n",
    "\n",
    "\n",
    "if __name__ == \"__main__\":\n",
    "    mainBareBones()\n"
   ],
   "outputs": [
    {
     "name": "stdout",
     "output_type": "stream",
     "text": [
      "[LightGBM] [Info] Total Bins 64010\n",
      "[LightGBM] [Info] Number of data points in the train set: 16087, number of used features: 1775\n",
      "[LightGBM] [Info] Start training from score -1.137269\n",
      "[LightGBM] [Info] Start training from score -0.934925\n",
      "[LightGBM] [Info] Start training from score -1.249350\n",
      "              precision    recall  f1-score   support\n",
      "\n",
      "  hatespeech       0.75      0.69      0.72      1325\n",
      "      normal       0.62      0.80      0.70      1502\n",
      "   offensive       0.58      0.42      0.49      1195\n",
      "\n",
      "    accuracy                           0.65      4022\n",
      "   macro avg       0.65      0.63      0.63      4022\n",
      "weighted avg       0.65      0.65      0.64      4022\n",
      "\n"
     ]
    }
   ],
   "execution_count": 20
  },
  {
   "metadata": {
    "ExecuteTime": {
     "end_time": "2025-03-20T20:42:21.235722Z",
     "start_time": "2025-03-20T20:42:17.037865Z"
    }
   },
   "cell_type": "code",
   "source": [
    "def optimize_datatypes(data):\n",
    "    for col in data.select_dtypes(include=['int']).columns:\n",
    "        data[col] = cp.asnumpy(cp.array(data[col], dtype=cp.int32))\n",
    "    for col in data.select_dtypes(include=['float']).columns:\n",
    "        data[col] = cp.asnumpy(cp.array(data[col], dtype=cp.float32))\n",
    "    return data\n",
    "\n",
    "\n",
    "def mainCuPY():\n",
    "    # Load the dataset\n",
    "    data = pd.read_csv('final_hateXplain.csv', dtype={\n",
    "        'comment': 'string',\n",
    "        'label': 'category',\n",
    "        'Race': 'category',\n",
    "        'Religion': 'category',\n",
    "        'Gender': 'category',\n",
    "        'Sexual Orientation': 'category',\n",
    "        'Miscellaneous': 'category'\n",
    "    })\n",
    "\n",
    "    # Preprocessing\n",
    "    # Fill missing values in the 'comment' column\n",
    "    data['comment'] = data['comment'].fillna('')\n",
    "\n",
    "    # Encode the 'label' column (e.g., normal, offensive, hatespeech)\n",
    "    label_encoder = LabelEncoder()\n",
    "    data['label'] = label_encoder.fit_transform(data['label'])\n",
    "\n",
    "    # Optimize datatypes\n",
    "    data = optimize_datatypes(data)\n",
    "\n",
    "    # TF-IDF Vectorization for the 'comment' column\n",
    "    tfidf = TfidfVectorizer(max_features=5000)\n",
    "    X_csr = tfidf.fit_transform(data['comment'])\n",
    "    X = csr_matrix(X_csr)\n",
    "\n",
    "    # Target variable\n",
    "    y = cp.array(data['label'])\n",
    "\n",
    "    # Train-test split\n",
    "    X_train, X_test, y_train, y_test = train_test_split(X, y, test_size=0.2, random_state=42)\n",
    "\n",
    "    # LightGBM Classifier\n",
    "    model = LGBMClassifier(\n",
    "        objective='multiclass',\n",
    "        num_class=len(label_encoder.classes_),\n",
    "        random_state=42,\n",
    "        force_col_wise=True\n",
    "    )\n",
    "    model.fit(cp.asnumpy(X_train.toarray()), cp.asnumpy(y_train))\n",
    "\n",
    "    # Predictions on test data\n",
    "    y_pred = model.predict(cp.asnumpy(X_test.toarray()))\n",
    "\n",
    "    # Evaluation\n",
    "    print(classification_report(cp.asnumpy(y_test), y_pred, target_names=label_encoder.classes_))\n",
    "\n",
    "\n",
    "if __name__ == \"__main__\":\n",
    "    mainCuPY()"
   ],
   "id": "54d0e525e694fa98",
   "outputs": [
    {
     "name": "stdout",
     "output_type": "stream",
     "text": [
      "[LightGBM] [Info] Total Bins 64010\n",
      "[LightGBM] [Info] Number of data points in the train set: 16087, number of used features: 1775\n",
      "[LightGBM] [Info] Start training from score -1.137269\n",
      "[LightGBM] [Info] Start training from score -0.934925\n",
      "[LightGBM] [Info] Start training from score -1.249350\n",
      "              precision    recall  f1-score   support\n",
      "\n",
      "  hatespeech       0.75      0.69      0.72      1325\n",
      "      normal       0.62      0.80      0.70      1502\n",
      "   offensive       0.58      0.42      0.49      1195\n",
      "\n",
      "    accuracy                           0.65      4022\n",
      "   macro avg       0.65      0.63      0.63      4022\n",
      "weighted avg       0.65      0.65      0.64      4022\n",
      "\n"
     ]
    }
   ],
   "execution_count": 21
  },
  {
   "metadata": {
    "ExecuteTime": {
     "end_time": "2025-03-20T20:27:43.447093Z",
     "start_time": "2025-03-20T20:27:43.375809Z"
    }
   },
   "cell_type": "code",
   "source": "patch_sklearn() # Apply Intel optimizations",
   "id": "85d494fd5a94c7c6",
   "outputs": [
    {
     "name": "stderr",
     "output_type": "stream",
     "text": [
      "Intel(R) Extension for Scikit-learn* enabled (https://github.com/intel/scikit-learn-intelex)\n"
     ]
    }
   ],
   "execution_count": 16
  },
  {
   "metadata": {
    "ExecuteTime": {
     "end_time": "2025-03-20T20:27:46.707554Z",
     "start_time": "2025-03-20T20:27:43.454371Z"
    }
   },
   "cell_type": "code",
   "source": [
    "def mainIntelex():\n",
    "    # Load the dataset\n",
    "    data = pd.read_csv('final_hateXplain.csv', dtype={\n",
    "        'comment': 'string',\n",
    "        'label': 'category',\n",
    "        'Race': 'category',\n",
    "        'Religion': 'category',\n",
    "        'Gender': 'category',\n",
    "        'Sexual Orientation': 'category',\n",
    "        'Miscellaneous': 'category'\n",
    "    })\n",
    "\n",
    "    # Preprocessing\n",
    "    # Fill missing values in the 'comment' column\n",
    "    data['comment'] = data['comment'].fillna('')\n",
    "\n",
    "    # Encode the 'label' column (e.g., normal, offensive, hatespeech)\n",
    "    label_encoder = LabelEncoder()\n",
    "    data['label'] = label_encoder.fit_transform(data['label'])\n",
    "\n",
    "    # TF-IDF Vectorization for the 'comment' column\n",
    "    tfidf = TfidfVectorizer(max_features=5000)\n",
    "    X = tfidf.fit_transform(data['comment'])\n",
    "\n",
    "    # Target variable\n",
    "    y = data['label']\n",
    "\n",
    "    # Train-test split\n",
    "    X_train, X_test, y_train, y_test = train_test_split(X, y, test_size=0.2, random_state=42)\n",
    "\n",
    "    # LightGBM Classifier\n",
    "    model = LGBMClassifier(\n",
    "        objective='multiclass',\n",
    "        num_class=len(label_encoder.classes_),\n",
    "        random_state=42,\n",
    "        force_col_wise=True\n",
    "    )\n",
    "    model.fit(X_train, y_train)\n",
    "\n",
    "    # Predictions on test data\n",
    "    y_pred = model.predict(X_test)\n",
    "\n",
    "    # Evaluation\n",
    "    print(classification_report(y_test, y_pred, target_names=label_encoder.classes_))\n",
    "\n",
    "\n",
    "if __name__ == \"__main__\":\n",
    "    mainIntelex()"
   ],
   "id": "32b1a10699391cb9",
   "outputs": [
    {
     "name": "stdout",
     "output_type": "stream",
     "text": [
      "[LightGBM] [Info] Total Bins 64010\n",
      "[LightGBM] [Info] Number of data points in the train set: 16087, number of used features: 1775\n",
      "[LightGBM] [Info] Start training from score -1.137269\n",
      "[LightGBM] [Info] Start training from score -0.934925\n",
      "[LightGBM] [Info] Start training from score -1.249350\n",
      "              precision    recall  f1-score   support\n",
      "\n",
      "  hatespeech       0.75      0.69      0.72      1325\n",
      "      normal       0.62      0.80      0.70      1502\n",
      "   offensive       0.58      0.42      0.49      1195\n",
      "\n",
      "    accuracy                           0.65      4022\n",
      "   macro avg       0.65      0.63      0.63      4022\n",
      "weighted avg       0.65      0.65      0.64      4022\n",
      "\n"
     ]
    }
   ],
   "execution_count": 17
  }
 ],
 "metadata": {
  "kernelspec": {
   "display_name": "Python 3",
   "language": "python",
   "name": "python3"
  },
  "language_info": {
   "codemirror_mode": {
    "name": "ipython",
    "version": 2
   },
   "file_extension": ".py",
   "mimetype": "text/x-python",
   "name": "python",
   "nbconvert_exporter": "python",
   "pygments_lexer": "ipython2",
   "version": "2.7.6"
  }
 },
 "nbformat": 4,
 "nbformat_minor": 5
}
