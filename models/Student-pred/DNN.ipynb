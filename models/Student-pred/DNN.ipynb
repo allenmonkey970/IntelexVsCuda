{
 "cells": [
  {
   "cell_type": "code",
   "id": "initial_id",
   "metadata": {
    "collapsed": true,
    "ExecuteTime": {
     "end_time": "2025-03-14T05:22:46.083823Z",
     "start_time": "2025-03-14T05:22:45.382899Z"
    }
   },
   "source": [
    "import warnings\n",
    "import pandas as pd\n",
    "from sklearn.model_selection import train_test_split\n",
    "from sklearn.metrics import accuracy_score\n",
    "from sklearn.neural_network import MLPClassifier\n",
    "\n",
    "def optimize_datatypes(data):\n",
    "    # Convert categorical features to category dtype\n",
    "    categorical_columns = ['Gender', 'Parental_Education_Level', 'Internet_Access_at_Home', 'Extracurricular_Activities', 'Pass_Fail']\n",
    "    for col in categorical_columns:\n",
    "        data[col] = data[col].astype('category')\n",
    "    \n",
    "    # Downcast numerical columns\n",
    "    for col in data.select_dtypes(include='int'):\n",
    "        data[col] = pd.to_numeric(data[col], downcast='integer')\n",
    "    for col in data.select_dtypes(include='float'):\n",
    "        data[col] = pd.to_numeric(data[col], downcast='float')\n",
    "    \n",
    "    return data\n",
    "\n",
    "def mainBareBones():\n",
    "    # Suppress warnings\n",
    "    warnings.filterwarnings(\"ignore\", category=FutureWarning)\n",
    "    \n",
    "    # Load the Data\n",
    "    data = pd.read_csv(\"student_performance_dataset.csv\")\n",
    "    \n",
    "    # Optimize Data Types\n",
    "    data = optimize_datatypes(data)\n",
    "    \n",
    "    # Encode categorical features\n",
    "    categorical_columns = ['Gender', 'Parental_Education_Level', 'Internet_Access_at_Home', 'Extracurricular_Activities', 'Pass_Fail']\n",
    "    data[categorical_columns] = data[categorical_columns].apply(lambda col: col.cat.codes)\n",
    "    \n",
    "    # Split the Data\n",
    "    X = data.drop(['Student_ID', 'Pass_Fail'], axis=1).values  # Extract values for efficient processing\n",
    "    y = data['Pass_Fail'].values\n",
    "    \n",
    "    X_train, X_test, y_train, y_test = train_test_split(X, y, test_size=0.2, random_state=42)\n",
    "    \n",
    "    # Train the Model using a Deep Neural Network\n",
    "    model = MLPClassifier(hidden_layer_sizes=(6, 50), max_iter=1200, random_state=42, early_stopping=True)\n",
    "    model.fit(X_train, y_train)\n",
    "    \n",
    "    # Evaluate the Model\n",
    "    y_pred = model.predict(X_test)\n",
    "    accuracy = accuracy_score(y_test, y_pred)\n",
    "    print(f\"Accuracy: {accuracy * 100:.2f}%\")\n",
    "    \n",
    "    # Print some predictions\n",
    "    predictions_df = pd.DataFrame({'Actual': y_test, 'Predicted': y_pred})\n",
    "    print(predictions_df.head())\n",
    "\n",
    "if __name__ == \"__main__\":\n",
    "    mainBareBones()\n"
   ],
   "outputs": [
    {
     "name": "stdout",
     "output_type": "stream",
     "text": [
      "Accuracy: 95.07%\n",
      "   Actual  Predicted\n",
      "0       0          0\n",
      "1       1          1\n",
      "2       1          1\n",
      "3       1          1\n",
      "4       1          1\n"
     ]
    },
    {
     "name": "stderr",
     "output_type": "stream",
     "text": [
      "C:\\Users\\antho\\anaconda3\\envs\\sklearn-env\\Lib\\site-packages\\sklearn\\neural_network\\_multilayer_perceptron.py:691: ConvergenceWarning: Stochastic Optimizer: Maximum iterations (500) reached and the optimization hasn't converged yet.\n",
      "  warnings.warn(\n"
     ]
    }
   ],
   "execution_count": 19
  },
  {
   "metadata": {},
   "cell_type": "code",
   "outputs": [],
   "execution_count": null,
   "source": "",
   "id": "c39b2643eccb8ffb"
  }
 ],
 "metadata": {
  "kernelspec": {
   "display_name": "Python 3",
   "language": "python",
   "name": "python3"
  },
  "language_info": {
   "codemirror_mode": {
    "name": "ipython",
    "version": 2
   },
   "file_extension": ".py",
   "mimetype": "text/x-python",
   "name": "python",
   "nbconvert_exporter": "python",
   "pygments_lexer": "ipython2",
   "version": "2.7.6"
  }
 },
 "nbformat": 4,
 "nbformat_minor": 5
}
