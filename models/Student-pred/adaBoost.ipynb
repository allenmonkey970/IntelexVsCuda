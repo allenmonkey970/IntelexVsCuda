{
 "cells": [
  {
   "cell_type": "code",
   "id": "initial_id",
   "metadata": {
    "collapsed": true,
    "ExecuteTime": {
     "end_time": "2025-03-14T03:58:52.600828Z",
     "start_time": "2025-03-14T03:58:50.475186Z"
    }
   },
   "source": [
    "import warnings\n",
    "import pandas as pd\n",
    "from sklearn.model_selection import train_test_split\n",
    "from sklearn.preprocessing import LabelEncoder\n",
    "from sklearn.ensemble import AdaBoostClassifier\n",
    "from sklearn.metrics import accuracy_score, classification_report\n",
    "\n",
    "def optimize_datatypes(data):\n",
    "    # Convert categorical features to category dtype\n",
    "    categorical_columns = ['Gender', 'Parental_Education_Level', 'Internet_Access_at_Home', 'Extracurricular_Activities', 'Pass_Fail']\n",
    "    for col in categorical_columns:\n",
    "        data[col] = data[col].astype('category')\n",
    "    \n",
    "    # Downcast numerical columns\n",
    "    for col in data.select_dtypes(include='int'):\n",
    "        data[col] = pd.to_numeric(data[col], downcast='integer')\n",
    "    for col in data.select_dtypes(include='float'):\n",
    "        data[col] = pd.to_numeric(data[col], downcast='float')\n",
    "    \n",
    "    return data\n",
    "\n",
    "def mainBareBones():\n",
    "    # Suppress warnings\n",
    "    warnings.filterwarnings(\"ignore\", category=FutureWarning)\n",
    "    \n",
    "    # Load the Data\n",
    "    data = pd.read_csv(\"student_performance_dataset.csv\")\n",
    "    \n",
    "    # Optimize Data Types\n",
    "    data = optimize_datatypes(data)\n",
    "    \n",
    "    # Encode categorical features\n",
    "    categorical_columns = ['Gender', 'Parental_Education_Level', 'Internet_Access_at_Home', 'Extracurricular_Activities', 'Pass_Fail']\n",
    "    encoder = LabelEncoder()\n",
    "    for col in categorical_columns:\n",
    "        if col in data.columns:\n",
    "            data[col] = encoder.fit_transform(data[col])\n",
    "    \n",
    "    # Split the Data\n",
    "    X = data.drop(['Student_ID', 'Pass_Fail'], axis=1).values\n",
    "    y = data['Pass_Fail'].values\n",
    "    \n",
    "    X_train, X_test, y_train, y_test = train_test_split(X, y, test_size=0.2, random_state=42)\n",
    "    \n",
    "    # Train the Model using AdaBoost\n",
    "    model = AdaBoostClassifier(n_estimators=100, random_state=42)\n",
    "    model.fit(X_train, y_train)\n",
    "    \n",
    "    # Evaluate the Model\n",
    "    y_pred = model.predict(X_test)\n",
    "    accuracy = accuracy_score(y_test, y_pred)\n",
    "    print(f\"Accuracy (AdaBoost): {accuracy * 100:.2f}%\")\n",
    "    \n",
    "    print(\"\\nClassification Report:\")\n",
    "    print(classification_report(y_test, y_pred, zero_division=1))\n",
    "\n",
    "if __name__ == \"__main__\":\n",
    "    mainBareBones()\n"
   ],
   "outputs": [
    {
     "name": "stdout",
     "output_type": "stream",
     "text": [
      "Accuracy (AdaBoost): 100.00%\n",
      "\n",
      "Classification Report:\n",
      "              precision    recall  f1-score   support\n",
      "\n",
      "           0       1.00      1.00      1.00        71\n",
      "           1       1.00      1.00      1.00        71\n",
      "\n",
      "    accuracy                           1.00       142\n",
      "   macro avg       1.00      1.00      1.00       142\n",
      "weighted avg       1.00      1.00      1.00       142\n",
      "\n"
     ]
    }
   ],
   "execution_count": 1
  },
  {
   "metadata": {
    "ExecuteTime": {
     "end_time": "2025-03-14T03:58:53.425119Z",
     "start_time": "2025-03-14T03:58:52.614342Z"
    }
   },
   "cell_type": "code",
   "source": [
    "import warnings\n",
    "import pandas as pd\n",
    "import cupy as cp\n",
    "from sklearn.model_selection import train_test_split\n",
    "from sklearn.preprocessing import LabelEncoder\n",
    "from sklearn.ensemble import AdaBoostClassifier\n",
    "from sklearn.metrics import accuracy_score, classification_report\n",
    "\n",
    "def optimize_datatypes(data):\n",
    "    # Convert categorical features to category dtype\n",
    "    categorical_columns = ['Gender', 'Parental_Education_Level', 'Internet_Access_at_Home', 'Extracurricular_Activities', 'Pass_Fail']\n",
    "    for col in categorical_columns:\n",
    "        data[col] = data[col].astype('category')\n",
    "    \n",
    "    # Downcast numerical columns\n",
    "    for col in data.select_dtypes(include='int'):\n",
    "        cupy_array = cp.array(data[col], dtype=cp.int32)  # Convert to CuPy array\n",
    "        data[col] = cupy_array.get()  # Convert back to NumPy\n",
    "    for col in data.select_dtypes(include='float'):\n",
    "        cupy_array = cp.array(data[col], dtype=cp.float32)  # Convert to CuPy array\n",
    "        data[col] = cupy_array.get() \n",
    "    return data\n",
    "\n",
    "def mainCuPY():\n",
    "    # Suppress warnings\n",
    "    warnings.filterwarnings(\"ignore\", category=FutureWarning)\n",
    "    \n",
    "    # Load the Data\n",
    "    data = pd.read_csv(\"student_performance_dataset.csv\")\n",
    "    \n",
    "    # Optimize Data Types\n",
    "    data = optimize_datatypes(data)\n",
    "    \n",
    "    # Encode categorical features\n",
    "    categorical_columns = ['Gender', 'Parental_Education_Level', 'Internet_Access_at_Home', 'Extracurricular_Activities', 'Pass_Fail']\n",
    "    encoder = LabelEncoder()\n",
    "    for col in categorical_columns:\n",
    "        if col in data.columns:\n",
    "            data[col] = encoder.fit_transform(data[col])\n",
    "    \n",
    "    # Split the Data\n",
    "    X = cp.array(data.drop(['Student_ID', 'Pass_Fail'], axis=1).values)  # Convert features to CuPy array\n",
    "    y = cp.array(data['Pass_Fail'].values)  # Convert target to CuPy array\n",
    "    \n",
    "\n",
    "    X_train, X_test, y_train, y_test = train_test_split(cp.asnumpy(X), cp.asnumpy(y), test_size=0.2, random_state=42)\n",
    "    \n",
    "    # Train the Model using AdaBoost\n",
    "    model = AdaBoostClassifier(n_estimators=100, random_state=42)\n",
    "    model.fit(X_train, y_train)\n",
    "    \n",
    "    # Evaluate the Model\n",
    "    y_pred = model.predict(X_test)\n",
    "    accuracy = accuracy_score(y_test, y_pred)\n",
    "    print(f\"Accuracy (AdaBoost): {accuracy * 100:.2f}%\")\n",
    "    \n",
    "    print(\"\\nClassification Report:\")\n",
    "    print(classification_report(y_test, y_pred, zero_division=1))\n",
    "\n",
    "if __name__ == \"__main__\":\n",
    "    mainCuPY()\n"
   ],
   "id": "a48a3b70f708f3f6",
   "outputs": [
    {
     "name": "stdout",
     "output_type": "stream",
     "text": [
      "Accuracy (AdaBoost): 100.00%\n",
      "\n",
      "Classification Report:\n",
      "              precision    recall  f1-score   support\n",
      "\n",
      "           0       1.00      1.00      1.00        71\n",
      "           1       1.00      1.00      1.00        71\n",
      "\n",
      "    accuracy                           1.00       142\n",
      "   macro avg       1.00      1.00      1.00       142\n",
      "weighted avg       1.00      1.00      1.00       142\n",
      "\n"
     ]
    }
   ],
   "execution_count": 2
  },
  {
   "metadata": {
    "ExecuteTime": {
     "end_time": "2025-03-14T03:58:54.292091Z",
     "start_time": "2025-03-14T03:58:53.830295Z"
    }
   },
   "cell_type": "code",
   "source": [
    "import warnings\n",
    "import pandas as pd\n",
    "from sklearn.model_selection import train_test_split\n",
    "from sklearn.preprocessing import LabelEncoder\n",
    "from sklearn.ensemble import AdaBoostClassifier\n",
    "from sklearn.metrics import accuracy_score, classification_report\n",
    "from sklearnex import patch_sklearn\n",
    "patch_sklearn()  # Apply the patch to scikit-learn\n",
    "\n",
    "def optimize_datatypes(data):\n",
    "    # Convert categorical features to category dtype\n",
    "    categorical_columns = ['Gender', 'Parental_Education_Level', 'Internet_Access_at_Home', 'Extracurricular_Activities', 'Pass_Fail']\n",
    "    for col in categorical_columns:\n",
    "        data[col] = data[col].astype('category')\n",
    "    \n",
    "    # Downcast numerical columns\n",
    "    for col in data.select_dtypes(include='int'):\n",
    "        data[col] = pd.to_numeric(data[col], downcast='integer')\n",
    "    for col in data.select_dtypes(include='float'):\n",
    "        data[col] = pd.to_numeric(data[col], downcast='float')\n",
    "    \n",
    "    return data\n",
    "\n",
    "def mainIntelex():\n",
    "    # Suppress warnings\n",
    "    warnings.filterwarnings(\"ignore\", category=FutureWarning)\n",
    "    \n",
    "    # Load the Data\n",
    "    data = pd.read_csv(\"student_performance_dataset.csv\")\n",
    "    \n",
    "    # Optimize Data Types\n",
    "    data = optimize_datatypes(data)\n",
    "    \n",
    "    # Encode categorical features\n",
    "    categorical_columns = ['Gender', 'Parental_Education_Level', 'Internet_Access_at_Home', 'Extracurricular_Activities', 'Pass_Fail']\n",
    "    encoder = LabelEncoder()\n",
    "    for col in categorical_columns:\n",
    "        if col in data.columns:\n",
    "            data[col] = encoder.fit_transform(data[col])\n",
    "    \n",
    "    # Split the Data\n",
    "    X = data.drop(['Student_ID', 'Pass_Fail'], axis=1).values\n",
    "    y = data['Pass_Fail'].values\n",
    "    \n",
    "    X_train, X_test, y_train, y_test = train_test_split(X, y, test_size=0.2, random_state=42)\n",
    "    \n",
    "    # Train the Model using AdaBoost\n",
    "    model = AdaBoostClassifier(n_estimators=100, random_state=42)\n",
    "    model.fit(X_train, y_train)\n",
    "    \n",
    "    # Evaluate the Model\n",
    "    y_pred = model.predict(X_test)\n",
    "    accuracy = accuracy_score(y_test, y_pred)\n",
    "    print(f\"Accuracy (AdaBoost): {accuracy * 100:.2f}%\")\n",
    "    \n",
    "    print(\"\\nClassification Report:\")\n",
    "    print(classification_report(y_test, y_pred, zero_division=1))\n",
    "\n",
    "if __name__ == \"__main__\":\n",
    "    mainIntelex()\n"
   ],
   "id": "755e47b37231610e",
   "outputs": [
    {
     "name": "stdout",
     "output_type": "stream",
     "text": [
      "Accuracy (AdaBoost): 100.00%\n",
      "\n",
      "Classification Report:\n",
      "              precision    recall  f1-score   support\n",
      "\n",
      "           0       1.00      1.00      1.00        71\n",
      "           1       1.00      1.00      1.00        71\n",
      "\n",
      "    accuracy                           1.00       142\n",
      "   macro avg       1.00      1.00      1.00       142\n",
      "weighted avg       1.00      1.00      1.00       142\n",
      "\n"
     ]
    },
    {
     "name": "stderr",
     "output_type": "stream",
     "text": [
      "Intel(R) Extension for Scikit-learn* enabled (https://github.com/intel/scikit-learn-intelex)\n"
     ]
    }
   ],
   "execution_count": 3
  },
  {
   "metadata": {
    "ExecuteTime": {
     "end_time": "2025-03-14T03:58:54.300702Z",
     "start_time": "2025-03-14T03:58:54.298835Z"
    }
   },
   "cell_type": "code",
   "source": "",
   "id": "5c5d96cf78904134",
   "outputs": [],
   "execution_count": null
  }
 ],
 "metadata": {
  "kernelspec": {
   "display_name": "Python 3",
   "language": "python",
   "name": "python3"
  },
  "language_info": {
   "codemirror_mode": {
    "name": "ipython",
    "version": 2
   },
   "file_extension": ".py",
   "mimetype": "text/x-python",
   "name": "python",
   "nbconvert_exporter": "python",
   "pygments_lexer": "ipython2",
   "version": "2.7.6"
  }
 },
 "nbformat": 4,
 "nbformat_minor": 5
}
