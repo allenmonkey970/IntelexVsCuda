{
 "cells": [
  {
   "metadata": {
    "ExecuteTime": {
     "end_time": "2025-03-15T00:35:25.236623Z",
     "start_time": "2025-03-15T00:35:22.690775Z"
    }
   },
   "cell_type": "code",
   "source": [
    "import pandas as pd\n",
    "from sklearn.model_selection import train_test_split\n",
    "from sklearn.preprocessing import LabelEncoder\n",
    "from sklearn.ensemble import AdaBoostClassifier\n",
    "from sklearn.metrics import accuracy_score, classification_report\n",
    "import cupy as cp\n",
    "from sklearnex import patch_sklearn"
   ],
   "id": "2130dfa131b8091c",
   "outputs": [],
   "execution_count": 1
  },
  {
   "cell_type": "code",
   "id": "initial_id",
   "metadata": {
    "collapsed": true,
    "ExecuteTime": {
     "end_time": "2025-03-15T00:35:32.285676Z",
     "start_time": "2025-03-15T00:35:25.240921Z"
    }
   },
   "source": [
    "def optimize_data_types(data):\n",
    "    # Convert categorical columns to 'category' type\n",
    "    categorical_columns = ['Married/Single', 'House_Ownership', 'Car_Ownership', 'Profession', 'CITY', 'STATE']\n",
    "    for col in categorical_columns:\n",
    "        if col in data.columns:  # Check if the column exists\n",
    "            data[col] = data[col].astype('category')\n",
    "    \n",
    "    # Downcast numerical columns to reduce memory usage\n",
    "    for col in data.select_dtypes(include='number').columns:\n",
    "        data[col] = pd.to_numeric(data[col], downcast='integer')\n",
    "    \n",
    "    return data\n",
    "\n",
    "def mainBareBones():\n",
    "    # Load data\n",
    "    data = pd.read_csv('Loan Prediction.csv')\n",
    "\n",
    "    # Drop rows with missing values\n",
    "    data = data.dropna()\n",
    "\n",
    "    # Optimize data types\n",
    "    data = optimize_data_types(data)\n",
    "\n",
    "    # Encode categorical data\n",
    "    encoder = LabelEncoder()\n",
    "    categorical_columns = ['Married/Single', 'House_Ownership', 'Car_Ownership', 'Profession', 'CITY', 'STATE']\n",
    "    for col in categorical_columns:\n",
    "        if col in data.columns:  # Check if the column exists\n",
    "            data[col] = encoder.fit_transform(data[col])\n",
    "\n",
    "    # Split features (X) and target variable (y)\n",
    "    target_column = 'Risk_Flag'  # Target variable\n",
    "    X = data.drop(columns=[target_column])\n",
    "    y = data[target_column]\n",
    "\n",
    "    # Split into training and testing sets\n",
    "    X_train, X_test, y_train, y_test = train_test_split(X, y, test_size=0.2, random_state=42)\n",
    "\n",
    "    # Initialize and train AdaBoost Classifier\n",
    "    model = AdaBoostClassifier(n_estimators=50, random_state=42)\n",
    "    model.fit(X_train, y_train)\n",
    "\n",
    "    # Make predictions\n",
    "    y_pred = model.predict(X_test)\n",
    "\n",
    "    # Evaluate accuracy\n",
    "    print(\"\\nEvaluating the model...\")\n",
    "    accuracy = accuracy_score(y_test, y_pred)\n",
    "    print(f\"Accuracy: {accuracy * 100:.2f}%\")\n",
    "    print(\"\\nClassification Report:\")\n",
    "    print(classification_report(y_test, y_pred, zero_division=1))\n",
    "\n",
    "if __name__ == \"__main__\":\n",
    "    mainBareBones()"
   ],
   "outputs": [
    {
     "name": "stdout",
     "output_type": "stream",
     "text": [
      "\n",
      "Evaluating the model...\n",
      "Accuracy: 87.59%\n",
      "\n",
      "Classification Report:\n",
      "              precision    recall  f1-score   support\n",
      "\n",
      "           0       0.88      1.00      0.93     44147\n",
      "           1       1.00      0.00      0.00      6253\n",
      "\n",
      "    accuracy                           0.88     50400\n",
      "   macro avg       0.94      0.50      0.47     50400\n",
      "weighted avg       0.89      0.88      0.82     50400\n",
      "\n"
     ]
    }
   ],
   "execution_count": 2
  },
  {
   "metadata": {
    "ExecuteTime": {
     "end_time": "2025-03-15T00:35:40.717496Z",
     "start_time": "2025-03-15T00:35:32.462199Z"
    }
   },
   "cell_type": "code",
   "source": [
    "def optimize_data_types(data):\n",
    "    # Convert categorical columns to 'category' type\n",
    "    categorical_columns = ['Married/Single', 'House_Ownership', 'Car_Ownership', 'Profession', 'CITY', 'STATE']\n",
    "    for col in categorical_columns:\n",
    "        if col in data.columns:  # Check if the column exists\n",
    "            data[col] = data[col].astype('category')\n",
    "    \n",
    "    # Downcast numerical columns to reduce memory usage with CuPy\n",
    "    for col in data.select_dtypes(include='number').columns:\n",
    "        cupy_array = cp.array(data[col], dtype=cp.float32)\n",
    "        data[col] = cupy_array.get()\n",
    "    \n",
    "    return data\n",
    "\n",
    "def mainCuPY():\n",
    "    # Load data into a pandas DataFrame\n",
    "    data = pd.read_csv('Loan Prediction.csv')\n",
    "\n",
    "    # Drop rows with missing values\n",
    "    data = data.dropna()\n",
    "\n",
    "    # Optimize data types\n",
    "    data = optimize_data_types(data)\n",
    "\n",
    "    # Encode categorical data\n",
    "    encoder = LabelEncoder()\n",
    "    categorical_columns = ['Married/Single', 'House_Ownership', 'Car_Ownership', 'Profession', 'CITY', 'STATE']\n",
    "    for col in categorical_columns:\n",
    "        if col in data.columns:  # Check if the column exists\n",
    "            data[col] = encoder.fit_transform(data[col])\n",
    "\n",
    "    # Convert features and target to CuPy arrays\n",
    "    target_column = 'Risk_Flag'  # Target variable\n",
    "    X = cp.array(data.drop(columns=[target_column]))\n",
    "    y = cp.array(data[target_column])\n",
    "\n",
    "    # Split into training and testing sets\n",
    "    X_train, X_test, y_train, y_test = train_test_split(X, y, test_size=0.2, random_state=42)\n",
    "\n",
    "    # Initialize and train AdaBoost Classifier\n",
    "    model = AdaBoostClassifier(n_estimators=50, random_state=42)\n",
    "    model.fit(cp.asnumpy(X_train), cp.asnumpy(y_train))  # Convert to NumPy for compatibility\n",
    "\n",
    "    # Make predictions\n",
    "    y_pred = model.predict(cp.asnumpy(X_test))  # Convert to NumPy for compatibility\n",
    "\n",
    "    # Evaluate accuracy\n",
    "    print(\"\\nEvaluating the model...\")\n",
    "    accuracy = accuracy_score(cp.asnumpy(y_test), y_pred)\n",
    "    print(f\"Accuracy: {accuracy * 100:.2f}%\")\n",
    "    print(\"\\nClassification Report:\")\n",
    "    print(classification_report(cp.asnumpy(y_test), y_pred, zero_division=1))\n",
    "\n",
    "if __name__ == \"__main__\":\n",
    "    mainCuPY()\n"
   ],
   "id": "a23be970b9e3fae1",
   "outputs": [
    {
     "name": "stdout",
     "output_type": "stream",
     "text": [
      "\n",
      "Evaluating the model...\n",
      "Accuracy: 87.59%\n",
      "\n",
      "Classification Report:\n",
      "              precision    recall  f1-score   support\n",
      "\n",
      "         0.0       0.88      1.00      0.93     44147\n",
      "         1.0       1.00      0.00      0.00      6253\n",
      "\n",
      "    accuracy                           0.88     50400\n",
      "   macro avg       0.94      0.50      0.47     50400\n",
      "weighted avg       0.89      0.88      0.82     50400\n",
      "\n"
     ]
    }
   ],
   "execution_count": 3
  },
  {
   "metadata": {
    "ExecuteTime": {
     "end_time": "2025-03-15T00:35:40.794358Z",
     "start_time": "2025-03-15T00:35:40.726493Z"
    }
   },
   "cell_type": "code",
   "source": "patch_sklearn() # Apply Intel optimizations",
   "id": "f4d1d2324ae79cb9",
   "outputs": [
    {
     "name": "stderr",
     "output_type": "stream",
     "text": [
      "Intel(R) Extension for Scikit-learn* enabled (https://github.com/intel/scikit-learn-intelex)\n"
     ]
    }
   ],
   "execution_count": 4
  },
  {
   "metadata": {
    "ExecuteTime": {
     "end_time": "2025-03-15T00:35:48.196852Z",
     "start_time": "2025-03-15T00:35:40.818793Z"
    }
   },
   "cell_type": "code",
   "source": [
    "def optimize_data_types(data):\n",
    "    # Convert categorical columns to 'category' type\n",
    "    categorical_columns = ['Married/Single', 'House_Ownership', 'Car_Ownership', 'Profession', 'CITY', 'STATE']\n",
    "    for col in categorical_columns:\n",
    "        if col in data.columns:  # Check if the column exists\n",
    "            data[col] = data[col].astype('category')\n",
    "    \n",
    "    # Downcast numerical columns to reduce memory usage\n",
    "    for col in data.select_dtypes(include='number').columns:\n",
    "        data[col] = pd.to_numeric(data[col], downcast='integer')\n",
    "    \n",
    "    return data\n",
    "\n",
    "def mainIntelex():\n",
    "    # Load data\n",
    "    data = pd.read_csv('Loan Prediction.csv')\n",
    "\n",
    "    # Drop rows with missing values\n",
    "    data = data.dropna()\n",
    "\n",
    "    # Optimize data types\n",
    "    data = optimize_data_types(data)\n",
    "\n",
    "    # Encode categorical data\n",
    "    encoder = LabelEncoder()\n",
    "    categorical_columns = ['Married/Single', 'House_Ownership', 'Car_Ownership', 'Profession', 'CITY', 'STATE']\n",
    "    for col in categorical_columns:\n",
    "        if col in data.columns:  # Check if the column exists\n",
    "            data[col] = encoder.fit_transform(data[col])\n",
    "\n",
    "    # Split features (X) and target variable (y)\n",
    "    target_column = 'Risk_Flag'  # Target variable\n",
    "    X = data.drop(columns=[target_column])\n",
    "    y = data[target_column]\n",
    "\n",
    "    # Split into training and testing sets\n",
    "    X_train, X_test, y_train, y_test = train_test_split(X, y, test_size=0.2, random_state=42)\n",
    "\n",
    "    # Initialize and train AdaBoost Classifier\n",
    "    model = AdaBoostClassifier(n_estimators=50, random_state=42)\n",
    "    model.fit(X_train, y_train)\n",
    "\n",
    "    # Make predictions\n",
    "    y_pred = model.predict(X_test)\n",
    "\n",
    "    # Evaluate accuracy\n",
    "    print(\"\\nEvaluating the model...\")\n",
    "    accuracy = accuracy_score(y_test, y_pred)\n",
    "    print(f\"Accuracy: {accuracy * 100:.2f}%\")\n",
    "    print(\"\\nClassification Report:\")\n",
    "    print(classification_report(y_test, y_pred, zero_division=1))\n",
    "\n",
    "if __name__ == \"__main__\":\n",
    "    mainIntelex()"
   ],
   "id": "a6db945818c48f49",
   "outputs": [
    {
     "name": "stdout",
     "output_type": "stream",
     "text": [
      "\n",
      "Evaluating the model...\n",
      "Accuracy: 87.59%\n",
      "\n",
      "Classification Report:\n",
      "              precision    recall  f1-score   support\n",
      "\n",
      "           0       0.88      1.00      0.93     44147\n",
      "           1       1.00      0.00      0.00      6253\n",
      "\n",
      "    accuracy                           0.88     50400\n",
      "   macro avg       0.94      0.50      0.47     50400\n",
      "weighted avg       0.89      0.88      0.82     50400\n",
      "\n"
     ]
    }
   ],
   "execution_count": 5
  }
 ],
 "metadata": {
  "kernelspec": {
   "display_name": "Python 3",
   "language": "python",
   "name": "python3"
  },
  "language_info": {
   "codemirror_mode": {
    "name": "ipython",
    "version": 2
   },
   "file_extension": ".py",
   "mimetype": "text/x-python",
   "name": "python",
   "nbconvert_exporter": "python",
   "pygments_lexer": "ipython2",
   "version": "2.7.6"
  }
 },
 "nbformat": 4,
 "nbformat_minor": 5
}
