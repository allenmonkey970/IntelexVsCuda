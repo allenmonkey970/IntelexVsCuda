{
 "cells": [
  {
   "cell_type": "code",
   "id": "initial_id",
   "metadata": {
    "collapsed": true,
    "ExecuteTime": {
     "end_time": "2025-03-08T05:03:05.509357Z",
     "start_time": "2025-03-08T05:03:04.069990Z"
    }
   },
   "source": [
    "import pandas as pd\n",
    "from sklearn.model_selection import train_test_split\n",
    "from sklearn.preprocessing import LabelEncoder\n",
    "from sklearn.linear_model import LogisticRegression\n",
    "from sklearn.metrics import accuracy_score\n",
    "\n",
    "def mainBareBones():\n",
    "    # Load the Data\n",
    "    data = pd.read_csv(\"student_performance_dataset.csv\")\n",
    "    \n",
    "    # Preprocess the Data\n",
    "    label_encoder = LabelEncoder()\n",
    "    data['Gender'] = label_encoder.fit_transform(data['Gender'])\n",
    "    data['Parental_Education_Level'] = label_encoder.fit_transform(data['Parental_Education_Level'])\n",
    "    data['Internet_Access_at_Home'] = label_encoder.fit_transform(data['Internet_Access_at_Home'])\n",
    "    data['Extracurricular_Activities'] = label_encoder.fit_transform(data['Extracurricular_Activities'])\n",
    "    data['Pass_Fail'] = label_encoder.fit_transform(data['Pass_Fail'])\n",
    "    \n",
    "    # Split the Data\n",
    "    X = data.drop(['Student_ID', 'Pass_Fail'], axis=1)\n",
    "    y = data['Pass_Fail']\n",
    "    \n",
    "    X_train, X_test, y_train, y_test = train_test_split(X, y, test_size=0.2, random_state=42)\n",
    "    \n",
    "    # Train the Model\n",
    "    model = LogisticRegression(random_state=42, max_iter=1000)\n",
    "    model.fit(X_train, y_train)\n",
    "    \n",
    "    # Evaluate the Model\n",
    "    y_pred = model.predict(X_test)\n",
    "    accuracy = accuracy_score(y_test, y_pred)\n",
    "    print(f\"Accuracy: {accuracy * 100:.2f}%\")\n",
    "    \n",
    "    # Print some predictions\n",
    "    predictions_df = pd.DataFrame({'Actual': y_test, 'Predicted': y_pred})\n",
    "    print(predictions_df.head())\n",
    "\n",
    "if __name__ == \"__main__\":\n",
    "    mainBareBones()\n"
   ],
   "outputs": [
    {
     "name": "stdout",
     "output_type": "stream",
     "text": [
      "Accuracy: 100.00%\n",
      "     Actual  Predicted\n",
      "120       0          0\n",
      "247       1          1\n",
      "324       1          1\n",
      "204       1          1\n",
      "603       1          1\n"
     ]
    }
   ],
   "execution_count": 1
  },
  {
   "metadata": {
    "ExecuteTime": {
     "end_time": "2025-03-08T05:03:06.282869Z",
     "start_time": "2025-03-08T05:03:05.760158Z"
    }
   },
   "cell_type": "code",
   "source": [
    "import cupy as cp\n",
    "import pandas as pd\n",
    "from sklearn.model_selection import train_test_split\n",
    "from sklearn.preprocessing import LabelEncoder\n",
    "from sklearn.linear_model import LogisticRegression\n",
    "from sklearn.metrics import accuracy_score\n",
    "\n",
    "def maincuPY():\n",
    "    # Load the Data\n",
    "    data = pd.read_csv(\"student_performance_dataset.csv\")\n",
    "    \n",
    "    # Preprocess the Data\n",
    "    label_encoder = LabelEncoder()\n",
    "    data['Gender'] = label_encoder.fit_transform(data['Gender'])\n",
    "    data['Parental_Education_Level'] = label_encoder.fit_transform(data['Parental_Education_Level'])\n",
    "    data['Internet_Access_at_Home'] = label_encoder.fit_transform(data['Internet_Access_at_Home'])\n",
    "    data['Extracurricular_Activities'] = label_encoder.fit_transform(data['Extracurricular_Activities'])\n",
    "    data['Pass_Fail'] = label_encoder.fit_transform(data['Pass_Fail'])\n",
    "    \n",
    "    # Convert data to CuPy arrays\n",
    "    X = cp.array(data.drop(['Student_ID', 'Pass_Fail'], axis=1))\n",
    "    y = cp.array(data['Pass_Fail'])\n",
    "    \n",
    "    # Split the Data\n",
    "    X_train, X_test, y_train, y_test = train_test_split(X, y, test_size=0.2, random_state=42)\n",
    "    \n",
    "    # Train the Model (Logistic Regression via scikit-learn still operates on CPU)\n",
    "    model = LogisticRegression(random_state=42, max_iter=1000)\n",
    "    model.fit(cp.asnumpy(X_train), cp.asnumpy(y_train))  # Convert CuPy arrays back to NumPy for scikit-learn compatibility\n",
    "    \n",
    "    # Evaluate the Model\n",
    "    y_pred = model.predict(cp.asnumpy(X_test))  # Convert back to NumPy for prediction\n",
    "    accuracy = accuracy_score(cp.asnumpy(y_test), y_pred)\n",
    "    print(f\"Accuracy: {accuracy * 100:.2f}%\")\n",
    "    \n",
    "    # Print some predictions\n",
    "    predictions_df = pd.DataFrame({'Actual': cp.asnumpy(y_test), 'Predicted': y_pred})\n",
    "    print(predictions_df.head())\n",
    "\n",
    "if __name__ == \"__main__\":\n",
    "    maincuPY()\n"
   ],
   "id": "393bf2bfc410a3ac",
   "outputs": [
    {
     "name": "stdout",
     "output_type": "stream",
     "text": [
      "Accuracy: 100.00%\n",
      "   Actual  Predicted\n",
      "0       0          0\n",
      "1       1          1\n",
      "2       1          1\n",
      "3       1          1\n",
      "4       1          1\n"
     ]
    }
   ],
   "execution_count": 2
  },
  {
   "metadata": {
    "ExecuteTime": {
     "end_time": "2025-03-08T05:03:06.716372Z",
     "start_time": "2025-03-08T05:03:06.290200Z"
    }
   },
   "cell_type": "code",
   "source": [
    "import pandas as pd\n",
    "from sklearn.model_selection import train_test_split\n",
    "from sklearn.preprocessing import LabelEncoder\n",
    "from sklearn.linear_model import LogisticRegression\n",
    "from sklearn.metrics import accuracy_score\n",
    "\n",
    "# Import and enable Intel Extension for Scikit-learn\n",
    "from sklearnex import patch_sklearn\n",
    "patch_sklearn()  # Apply the patch to accelerate Scikit-learn\n",
    "\n",
    "def mainIntelex():\n",
    "    # Load the Data\n",
    "    data = pd.read_csv(\"student_performance_dataset.csv\")\n",
    "    \n",
    "    # Preprocess the Data\n",
    "    label_encoder = LabelEncoder()\n",
    "    data['Gender'] = label_encoder.fit_transform(data['Gender'])\n",
    "    data['Parental_Education_Level'] = label_encoder.fit_transform(data['Parental_Education_Level'])\n",
    "    data['Internet_Access_at_Home'] = label_encoder.fit_transform(data['Internet_Access_at_Home'])\n",
    "    data['Extracurricular_Activities'] = label_encoder.fit_transform(data['Extracurricular_Activities'])\n",
    "    data['Pass_Fail'] = label_encoder.fit_transform(data['Pass_Fail'])\n",
    "    \n",
    "    # Split the Data\n",
    "    X = data.drop(['Student_ID', 'Pass_Fail'], axis=1)\n",
    "    y = data['Pass_Fail']\n",
    "    \n",
    "    X_train, X_test, y_train, y_test = train_test_split(X, y, test_size=0.2, random_state=42)\n",
    "    \n",
    "    # Train the Model\n",
    "    model = LogisticRegression(random_state=42, max_iter=1000)\n",
    "    model.fit(X_train, y_train)\n",
    "    \n",
    "    # Evaluate the Model\n",
    "    y_pred = model.predict(X_test)\n",
    "    accuracy = accuracy_score(y_test, y_pred)\n",
    "    print(f\"Accuracy: {accuracy * 100:.2f}%\")\n",
    "    \n",
    "    # Print some predictions\n",
    "    predictions_df = pd.DataFrame({'Actual': y_test, 'Predicted': y_pred})\n",
    "    print(predictions_df.head())\n",
    "\n",
    "if __name__ == \"__main__\":\n",
    "    mainIntelex()\n"
   ],
   "id": "e9b8cace25e12bf9",
   "outputs": [
    {
     "name": "stdout",
     "output_type": "stream",
     "text": [
      "Accuracy: 100.00%\n",
      "     Actual  Predicted\n",
      "120       0          0\n",
      "247       1          1\n",
      "324       1          1\n",
      "204       1          1\n",
      "603       1          1\n"
     ]
    },
    {
     "name": "stderr",
     "output_type": "stream",
     "text": [
      "Intel(R) Extension for Scikit-learn* enabled (https://github.com/intel/scikit-learn-intelex)\n"
     ]
    }
   ],
   "execution_count": 3
  }
 ],
 "metadata": {
  "kernelspec": {
   "display_name": "Python 3",
   "language": "python",
   "name": "python3"
  },
  "language_info": {
   "codemirror_mode": {
    "name": "ipython",
    "version": 2
   },
   "file_extension": ".py",
   "mimetype": "text/x-python",
   "name": "python",
   "nbconvert_exporter": "python",
   "pygments_lexer": "ipython2",
   "version": "2.7.6"
  }
 },
 "nbformat": 4,
 "nbformat_minor": 5
}
