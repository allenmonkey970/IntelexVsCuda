{
 "cells": [
  {
   "metadata": {
    "ExecuteTime": {
     "end_time": "2025-03-14T23:52:32.821671Z",
     "start_time": "2025-03-14T23:52:30.786852Z"
    }
   },
   "cell_type": "code",
   "source": [
    "import pandas as pd\n",
    "from sklearn.model_selection import train_test_split\n",
    "from sklearn.linear_model import LogisticRegression\n",
    "from sklearn.metrics import accuracy_score\n",
    "import cupy as cp\n",
    "from sklearnex import patch_sklearn"
   ],
   "id": "2e8e7e726037daa",
   "outputs": [],
   "execution_count": 1
  },
  {
   "cell_type": "code",
   "id": "initial_id",
   "metadata": {
    "collapsed": true,
    "ExecuteTime": {
     "end_time": "2025-03-14T23:52:32.877077Z",
     "start_time": "2025-03-14T23:52:32.827653Z"
    }
   },
   "source": [
    "def optimize_datatypes(data):\n",
    "    # Convert categorical features to category dtype\n",
    "    categorical_columns = ['Gender', 'Parental_Education_Level', 'Internet_Access_at_Home', 'Extracurricular_Activities', 'Pass_Fail']\n",
    "    for col in categorical_columns:\n",
    "        data[col] = data[col].astype('category')\n",
    "    \n",
    "    # Downcast numerical columns\n",
    "    for col in data.select_dtypes(include='int'):\n",
    "        data[col] = pd.to_numeric(data[col], downcast='integer')\n",
    "    for col in data.select_dtypes(include='float'):\n",
    "        data[col] = pd.to_numeric(data[col], downcast='float')\n",
    "    \n",
    "    return data\n",
    "\n",
    "def mainBareBones():\n",
    "    # Load the Data\n",
    "    data = pd.read_csv(\"student_performance_dataset.csv\")\n",
    "    \n",
    "    # Define the categorical columns\n",
    "    categorical_columns = ['Gender', 'Parental_Education_Level', 'Internet_Access_at_Home', 'Extracurricular_Activities', 'Pass_Fail']\n",
    "    \n",
    "    # Optimize data types\n",
    "    data = optimize_datatypes(data)\n",
    "    \n",
    "    # Encode categorical data\n",
    "    data[categorical_columns] = data[categorical_columns].apply(lambda col: col.cat.codes)\n",
    "    \n",
    "    # Split the Data\n",
    "    X = data.drop(['Student_ID', 'Pass_Fail'], axis=1)\n",
    "    y = data['Pass_Fail']\n",
    "    \n",
    "    X_train, X_test, y_train, y_test = train_test_split(X, y, test_size=0.2, random_state=42)\n",
    "    \n",
    "    # Train the Model\n",
    "    model = LogisticRegression(random_state=42, max_iter=1000)\n",
    "    model.fit(X_train, y_train)\n",
    "    \n",
    "    # Evaluate the Model\n",
    "    y_pred = model.predict(X_test)\n",
    "    accuracy = accuracy_score(y_test, y_pred)\n",
    "    print(f\"Accuracy: {accuracy * 100:.2f}%\")\n",
    "    \n",
    "    # Print some predictions\n",
    "    predictions_df = pd.DataFrame({'Actual': y_test, 'Predicted': y_pred})\n",
    "    print(predictions_df.head())\n",
    "\n",
    "if __name__ == \"__main__\":\n",
    "    mainBareBones()\n"
   ],
   "outputs": [
    {
     "name": "stdout",
     "output_type": "stream",
     "text": [
      "Accuracy: 100.00%\n",
      "     Actual  Predicted\n",
      "120       0          0\n",
      "247       1          1\n",
      "324       1          1\n",
      "204       1          1\n",
      "603       1          1\n"
     ]
    }
   ],
   "execution_count": 2
  },
  {
   "metadata": {
    "ExecuteTime": {
     "end_time": "2025-03-14T23:52:33.187828Z",
     "start_time": "2025-03-14T23:52:33.042006Z"
    }
   },
   "cell_type": "code",
   "source": [
    "def optimize_dtypes(df):\n",
    "    # Optimize numeric columns\n",
    "    for col in df.columns:\n",
    "        if df[col].dtype == 'float64':\n",
    "            df[col] = pd.to_numeric(df[col], downcast='float')\n",
    "        elif df[col].dtype == 'int64':\n",
    "            df[col] = pd.to_numeric(df[col], downcast='integer')\n",
    "    return df\n",
    "\n",
    "def maincuPY():\n",
    "    # Load the Data\n",
    "    print(\"Loading dataset...\")\n",
    "    data = pd.read_csv(\"student_performance_dataset.csv\")\n",
    "    \n",
    "    # Preprocess the Data (Optimize by converting to appropriate types first)\n",
    "    print(\"Preprocessing data...\")\n",
    "    categorical_columns = ['Gender', 'Parental_Education_Level', 'Internet_Access_at_Home', \n",
    "                           'Extracurricular_Activities', 'Pass_Fail']\n",
    "    \n",
    "    for col in categorical_columns:\n",
    "        # Convert to 'category' dtype and encode\n",
    "        data[col] = data[col].astype('category').cat.codes\n",
    "\n",
    "    # Optimize numeric columns for memory efficiency\n",
    "    data = optimize_dtypes(data)\n",
    "    \n",
    "    # Convert data to CuPy arrays\n",
    "    print(\"Converting data to CuPy arrays...\")\n",
    "    X = cp.array(data.drop(['Student_ID', 'Pass_Fail'], axis=1).values, dtype=cp.float32)\n",
    "    y = cp.array(data['Pass_Fail'].values, dtype=cp.int32)\n",
    "    \n",
    "    # Split the Data\n",
    "    print(\"Splitting dataset...\")\n",
    "    X_train, X_test, y_train, y_test = train_test_split(X, y, test_size=0.2, random_state=42)\n",
    "    \n",
    "    # Train the Model\n",
    "    print(\"Training the model...\")\n",
    "    model = LogisticRegression(random_state=42, max_iter=1000)\n",
    "    model.fit(cp.asnumpy(X_train), cp.asnumpy(y_train))  # Convert CuPy arrays to NumPy\n",
    "    \n",
    "    # Evaluate the Model\n",
    "    print(\"Evaluating the model...\")\n",
    "    y_pred = model.predict(cp.asnumpy(X_test))  \n",
    "    accuracy = accuracy_score(cp.asnumpy(y_test), y_pred)  \n",
    "    print(f\"Accuracy: {accuracy * 100:.2f}%\")\n",
    "    \n",
    "    # Print sample predictions\n",
    "    print(\"Sample predictions:\")\n",
    "    predictions_df = pd.DataFrame({'Actual': cp.asnumpy(y_test), 'Predicted': y_pred})\n",
    "    print(predictions_df.head())\n",
    "\n",
    "if __name__ == \"__main__\":\n",
    "    maincuPY()"
   ],
   "id": "393bf2bfc410a3ac",
   "outputs": [
    {
     "name": "stdout",
     "output_type": "stream",
     "text": [
      "Loading dataset...\n",
      "Preprocessing data...\n",
      "Converting data to CuPy arrays...\n",
      "Splitting dataset...\n",
      "Training the model...\n",
      "Evaluating the model...\n",
      "Accuracy: 100.00%\n",
      "Sample predictions:\n",
      "   Actual  Predicted\n",
      "0       0          0\n",
      "1       1          1\n",
      "2       1          1\n",
      "3       1          1\n",
      "4       1          1\n"
     ]
    }
   ],
   "execution_count": 3
  },
  {
   "metadata": {},
   "cell_type": "code",
   "outputs": [],
   "execution_count": null,
   "source": "patch_sklearn() # Apply Intel optimizations",
   "id": "37e26af1258d29ba"
  },
  {
   "metadata": {
    "ExecuteTime": {
     "end_time": "2025-03-14T23:52:33.293519Z",
     "start_time": "2025-03-14T23:52:33.194163Z"
    }
   },
   "cell_type": "code",
   "source": [
    "def optimize_datatypes(data):\n",
    "    # Convert categorical features to category dtype\n",
    "    categorical_columns = ['Gender', 'Parental_Education_Level', 'Internet_Access_at_Home', 'Extracurricular_Activities', 'Pass_Fail']\n",
    "    for col in categorical_columns:\n",
    "        data[col] = data[col].astype('category')\n",
    "    \n",
    "    # Downcast numerical columns\n",
    "    for col in data.select_dtypes(include='int'):\n",
    "        data[col] = pd.to_numeric(data[col], downcast='integer')\n",
    "    for col in data.select_dtypes(include='float'):\n",
    "        data[col] = pd.to_numeric(data[col], downcast='float')\n",
    "    \n",
    "    return data\n",
    "\n",
    "def mainIntelex():\n",
    "    # Load the Data\n",
    "    data = pd.read_csv(\"student_performance_dataset.csv\")\n",
    "    \n",
    "    # Define the categorical columns\n",
    "    categorical_columns = ['Gender', 'Parental_Education_Level', 'Internet_Access_at_Home', 'Extracurricular_Activities', 'Pass_Fail']\n",
    "    \n",
    "    # Optimize data types\n",
    "    data = optimize_datatypes(data)\n",
    "    \n",
    "    # Encode categorical data\n",
    "    data[categorical_columns] = data[categorical_columns].apply(lambda col: col.cat.codes)\n",
    "    \n",
    "    # Split the Data\n",
    "    X = data.drop(['Student_ID', 'Pass_Fail'], axis=1)\n",
    "    y = data['Pass_Fail']\n",
    "    \n",
    "    X_train, X_test, y_train, y_test = train_test_split(X, y, test_size=0.2, random_state=42)\n",
    "    \n",
    "    # Train the Model\n",
    "    model = LogisticRegression(random_state=42, max_iter=1000)\n",
    "    model.fit(X_train, y_train)\n",
    "    \n",
    "    # Evaluate the Model\n",
    "    y_pred = model.predict(X_test)\n",
    "    accuracy = accuracy_score(y_test, y_pred)\n",
    "    print(f\"Accuracy: {accuracy * 100:.2f}%\")\n",
    "\n",
    "if __name__ == \"__main__\":\n",
    "    mainIntelex()\n"
   ],
   "id": "e9b8cace25e12bf9",
   "outputs": [
    {
     "name": "stdout",
     "output_type": "stream",
     "text": [
      "Accuracy: 100.00%\n"
     ]
    },
    {
     "name": "stderr",
     "output_type": "stream",
     "text": [
      "Intel(R) Extension for Scikit-learn* enabled (https://github.com/intel/scikit-learn-intelex)\n"
     ]
    }
   ],
   "execution_count": 4
  }
 ],
 "metadata": {
  "kernelspec": {
   "display_name": "Python 3",
   "language": "python",
   "name": "python3"
  },
  "language_info": {
   "codemirror_mode": {
    "name": "ipython",
    "version": 2
   },
   "file_extension": ".py",
   "mimetype": "text/x-python",
   "name": "python",
   "nbconvert_exporter": "python",
   "pygments_lexer": "ipython2",
   "version": "2.7.6"
  }
 },
 "nbformat": 4,
 "nbformat_minor": 5
}
