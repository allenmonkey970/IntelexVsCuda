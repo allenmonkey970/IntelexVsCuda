{
 "cells": [
  {
   "metadata": {
    "ExecuteTime": {
     "end_time": "2025-03-15T00:43:06.756261Z",
     "start_time": "2025-03-15T00:43:04.339334Z"
    }
   },
   "cell_type": "code",
   "source": [
    "import pandas as pd\n",
    "import numpy as np\n",
    "from sklearn.feature_extraction.text import TfidfVectorizer\n",
    "from sklearn.model_selection import train_test_split\n",
    "from sklearn.preprocessing import LabelEncoder\n",
    "from xgboost import XGBClassifier\n",
    "from sklearn.metrics import classification_report\n",
    "import cupy as cp\n",
    "from sklearnex import patch_sklearn"
   ],
   "id": "18b919fde093a54c",
   "outputs": [],
   "execution_count": 1
  },
  {
   "cell_type": "code",
   "id": "initial_id",
   "metadata": {
    "collapsed": true,
    "ExecuteTime": {
     "end_time": "2025-03-15T00:43:20.067261Z",
     "start_time": "2025-03-15T00:43:06.767178Z"
    }
   },
   "source": [
    "def mainBareBones():\n",
    "    # Load the dataset\n",
    "    data = pd.read_csv('final_hateXplain.csv', dtype={\n",
    "        'comment': 'string',  \n",
    "        'label': 'category', \n",
    "        'Race': 'category',\n",
    "        'Religion': 'category',\n",
    "        'Gender': 'category',\n",
    "        'Sexual Orientation': 'category',\n",
    "        'Miscellaneous': 'category'\n",
    "    })\n",
    "\n",
    "    # Preprocessing\n",
    "    # Fill missing values in the 'comment' column\n",
    "    data['comment'] = data['comment'].fillna('')\n",
    "\n",
    "    # Encode the 'label' column (e.g., normal, offensive, hatespeech)\n",
    "    label_encoder = LabelEncoder()\n",
    "    data['label'] = label_encoder.fit_transform(data['label'])\n",
    "\n",
    "    # TF-IDF Vectorization for the 'comment' column\n",
    "    tfidf = TfidfVectorizer(max_features=5000) \n",
    "    X = tfidf.fit_transform(data['comment'])\n",
    "\n",
    "    # Target variable\n",
    "    y = data['label']\n",
    "\n",
    "    # Train-test split\n",
    "    X_train, X_test, y_train, y_test = train_test_split(X, y, test_size=0.2, random_state=42)\n",
    "\n",
    "    # XGBoost Model\n",
    "    model = XGBClassifier(eval_metric='mlogloss')\n",
    "    model.fit(X_train, y_train)\n",
    "\n",
    "    # Predictions on test data\n",
    "    y_pred = model.predict(X_test)\n",
    "\n",
    "    # Evaluation\n",
    "    print(classification_report(y_test, y_pred, target_names=label_encoder.classes_))\n",
    "\n",
    "if __name__ == \"__main__\":\n",
    "    mainBareBones()"
   ],
   "outputs": [
    {
     "name": "stdout",
     "output_type": "stream",
     "text": [
      "              precision    recall  f1-score   support\n",
      "\n",
      "  hatespeech       0.75      0.66      0.71      1325\n",
      "      normal       0.60      0.81      0.69      1502\n",
      "   offensive       0.56      0.39      0.46      1195\n",
      "\n",
      "    accuracy                           0.64      4022\n",
      "   macro avg       0.64      0.62      0.62      4022\n",
      "weighted avg       0.64      0.64      0.63      4022\n",
      "\n"
     ]
    }
   ],
   "execution_count": 2
  },
  {
   "metadata": {
    "ExecuteTime": {
     "end_time": "2025-03-15T00:43:21.645819Z",
     "start_time": "2025-03-15T00:43:20.274183Z"
    }
   },
   "cell_type": "code",
   "source": [
    "def mainCuPY():\n",
    "    # Load the dataset with optimized datatypes\n",
    "    data = pd.read_csv('final_hateXplain.csv', dtype={\n",
    "        'comment': 'string',  \n",
    "        'label': 'category', \n",
    "        'Race': 'category',\n",
    "        'Religion': 'category',\n",
    "        'Gender': 'category',\n",
    "        'Sexual Orientation': 'category',\n",
    "        'Miscellaneous': 'category'\n",
    "    })\n",
    "\n",
    "    # Fill missing values in the 'comment' column\n",
    "    data['comment'] = data['comment'].fillna('')\n",
    "\n",
    "    # Encode the 'label' column with LabelEncoder\n",
    "    label_encoder = LabelEncoder()\n",
    "    data['label'] = label_encoder.fit_transform(data['label']).astype('int8')\n",
    "\n",
    "    # TF-IDF Vectorization\n",
    "    tfidf = TfidfVectorizer(max_features=5000)\n",
    "    X = tfidf.fit_transform(data['comment'])\n",
    "\n",
    "    # Convert the sparse matrix to CuPy format\n",
    "    X_cupy = cp.sparse.csr_matrix(X, dtype=cp.float32)\n",
    "\n",
    "    y = cp.asarray(data['label'], dtype=cp.int32)\n",
    "\n",
    "    # Train-test split\n",
    "    X_train, X_test, y_train, y_test = train_test_split(\n",
    "        X_cupy, y, test_size=0.2, random_state=42\n",
    "    )\n",
    "\n",
    "    # XGBoost parameters\n",
    "    params = {\n",
    "        'objective': 'binary:logistic',\n",
    "        'tree_method': 'hist',  # Optimized for GPU\n",
    "        'device': 'cuda',     # Use GPU\n",
    "        'random_state': 42\n",
    "    }\n",
    "\n",
    "    # XGBoost Model\n",
    "    model = XGBClassifier(**params)\n",
    "    model.fit(X_train.get(), y_train.get())  # Convert CuPy arrays to NumPy\n",
    "\n",
    "    # Predictions\n",
    "    y_pred = model.predict(X_test.get())\n",
    "\n",
    "    # Evaluation\n",
    "    print(classification_report(y_test.get(), y_pred, target_names=label_encoder.classes_))\n",
    "\n",
    "if __name__ == \"__main__\":\n",
    "    mainCuPY()\n"
   ],
   "id": "8c379b9956172b21",
   "outputs": [
    {
     "name": "stdout",
     "output_type": "stream",
     "text": [
      "              precision    recall  f1-score   support\n",
      "\n",
      "  hatespeech       0.25      0.01      0.02      1325\n",
      "      normal       0.39      0.91      0.55      1502\n",
      "   offensive       0.15      0.07      0.09      1195\n",
      "\n",
      "    accuracy                           0.36      4022\n",
      "   macro avg       0.26      0.33      0.22      4022\n",
      "weighted avg       0.27      0.36      0.24      4022\n",
      "\n"
     ]
    },
    {
     "name": "stderr",
     "output_type": "stream",
     "text": [
      "C:\\Users\\antho\\anaconda3\\envs\\sklearn-env\\Lib\\site-packages\\xgboost\\core.py:158: UserWarning: [18:43:21] WARNING: D:\\bld\\xgboost-split_1738880170463\\work\\src\\common\\error_msg.cc:58: Falling back to prediction using DMatrix due to mismatched devices. This might lead to higher memory usage and slower performance. XGBoost is running on: cuda:0, while the input data is on: cpu.\n",
      "Potential solutions:\n",
      "- Use a data structure that matches the device ordinal in the booster.\n",
      "- Set the device for booster before call to inplace_predict.\n",
      "\n",
      "This warning will only be shown once.\n",
      "\n",
      "  warnings.warn(smsg, UserWarning)\n"
     ]
    }
   ],
   "execution_count": 3
  },
  {
   "metadata": {
    "ExecuteTime": {
     "end_time": "2025-03-15T00:43:21.746074Z",
     "start_time": "2025-03-15T00:43:21.658475Z"
    }
   },
   "cell_type": "code",
   "source": "patch_sklearn()  # Apply Intel optimizations",
   "id": "5a6ec1a39a531a50",
   "outputs": [
    {
     "name": "stderr",
     "output_type": "stream",
     "text": [
      "Intel(R) Extension for Scikit-learn* enabled (https://github.com/intel/scikit-learn-intelex)\n"
     ]
    }
   ],
   "execution_count": 4
  },
  {
   "metadata": {
    "ExecuteTime": {
     "end_time": "2025-03-15T00:43:35.037453Z",
     "start_time": "2025-03-15T00:43:21.753548Z"
    }
   },
   "cell_type": "code",
   "source": [
    "def mainIntelex():\n",
    "    # Load the dataset\n",
    "    data = pd.read_csv('final_hateXplain.csv', dtype={\n",
    "        'comment': 'string',  \n",
    "        'label': 'category', \n",
    "        'Race': 'category',\n",
    "        'Religion': 'category',\n",
    "        'Gender': 'category',\n",
    "        'Sexual Orientation': 'category',\n",
    "        'Miscellaneous': 'category'\n",
    "    })\n",
    "\n",
    "    # Preprocessing\n",
    "    # Fill missing values in the 'comment' column\n",
    "    data['comment'] = data['comment'].fillna('')\n",
    "\n",
    "    # Encode the 'label' column (e.g., normal, offensive, hatespeech)\n",
    "    label_encoder = LabelEncoder()\n",
    "    data['label'] = label_encoder.fit_transform(data['label'])\n",
    "\n",
    "    # TF-IDF Vectorization for the 'comment' column\n",
    "    tfidf = TfidfVectorizer(max_features=5000)  # Adjust max_features as needed\n",
    "    X = tfidf.fit_transform(data['comment'])\n",
    "\n",
    "    # Target variable\n",
    "    y = data['label']\n",
    "\n",
    "    # Train-test split\n",
    "    X_train, X_test, y_train, y_test = train_test_split(X, y, test_size=0.2, random_state=42)\n",
    "\n",
    "    # XGBoost Model\n",
    "    model = XGBClassifier(eval_metric='mlogloss')\n",
    "    model.fit(X_train, y_train)\n",
    "\n",
    "    # Predictions on test data\n",
    "    y_pred = model.predict(X_test)\n",
    "\n",
    "    # Evaluation\n",
    "    print(classification_report(y_test, y_pred, target_names=label_encoder.classes_))\n",
    "\n",
    "if __name__ == \"__main__\":\n",
    "    mainIntelex()"
   ],
   "id": "ff653b4a07dbafbb",
   "outputs": [
    {
     "name": "stdout",
     "output_type": "stream",
     "text": [
      "              precision    recall  f1-score   support\n",
      "\n",
      "  hatespeech       0.75      0.66      0.71      1325\n",
      "      normal       0.60      0.81      0.69      1502\n",
      "   offensive       0.56      0.39      0.46      1195\n",
      "\n",
      "    accuracy                           0.64      4022\n",
      "   macro avg       0.64      0.62      0.62      4022\n",
      "weighted avg       0.64      0.64      0.63      4022\n",
      "\n"
     ]
    }
   ],
   "execution_count": 5
  },
  {
   "metadata": {
    "ExecuteTime": {
     "end_time": "2025-03-15T00:43:35.070060Z",
     "start_time": "2025-03-15T00:43:35.067519Z"
    }
   },
   "cell_type": "code",
   "source": "",
   "id": "6ac166dff67122e8",
   "outputs": [],
   "execution_count": null
  }
 ],
 "metadata": {
  "kernelspec": {
   "display_name": "Python 3",
   "language": "python",
   "name": "python3"
  },
  "language_info": {
   "codemirror_mode": {
    "name": "ipython",
    "version": 2
   },
   "file_extension": ".py",
   "mimetype": "text/x-python",
   "name": "python",
   "nbconvert_exporter": "python",
   "pygments_lexer": "ipython2",
   "version": "2.7.6"
  }
 },
 "nbformat": 4,
 "nbformat_minor": 5
}
