{
 "cells": [
  {
   "metadata": {
    "ExecuteTime": {
     "end_time": "2025-03-15T00:44:49.644307Z",
     "start_time": "2025-03-15T00:44:47.702410Z"
    }
   },
   "cell_type": "code",
   "source": [
    "import pandas as pd\n",
    "import numpy as np\n",
    "from sklearn.feature_extraction.text import TfidfVectorizer\n",
    "from sklearn.model_selection import train_test_split\n",
    "from sklearn.preprocessing import LabelEncoder\n",
    "from sklearn.ensemble import RandomForestClassifier\n",
    "from sklearn.metrics import classification_report\n",
    "from sklearnex import patch_sklearn\n",
    "import cupy as cp"
   ],
   "id": "22a131a4f40a80ae",
   "outputs": [],
   "execution_count": 1
  },
  {
   "cell_type": "code",
   "id": "initial_id",
   "metadata": {
    "collapsed": true,
    "ExecuteTime": {
     "end_time": "2025-03-15T00:45:12.642361Z",
     "start_time": "2025-03-15T00:44:49.648631Z"
    }
   },
   "source": [
    "def mainBareBones():\n",
    "    # Load the dataset\n",
    "    data = pd.read_csv('final_hateXplain.csv', dtype={\n",
    "        'comment': 'string',  \n",
    "        'label': 'category', \n",
    "        'Race': 'category',\n",
    "        'Religion': 'category',\n",
    "        'Gender': 'category',\n",
    "        'Sexual Orientation': 'category',\n",
    "        'Miscellaneous': 'category'\n",
    "    })\n",
    "\n",
    "    # Preprocessing\n",
    "    # Fill missing values in the 'comment' column\n",
    "    data['comment'] = data['comment'].fillna('')\n",
    "\n",
    "    # Encode the 'label' column (e.g., normal, offensive, hatespeech)\n",
    "    label_encoder = LabelEncoder()\n",
    "    data['label'] = label_encoder.fit_transform(data['label'])\n",
    "\n",
    "    # TF-IDF Vectorization for the 'comment' column\n",
    "    tfidf = TfidfVectorizer(max_features=5000)\n",
    "    X = tfidf.fit_transform(data['comment'])\n",
    "\n",
    "    # Target variable\n",
    "    y = data['label']\n",
    "\n",
    "    # Train-test split\n",
    "    X_train, X_test, y_train, y_test = train_test_split(X, y, test_size=0.2, random_state=42)\n",
    "\n",
    "    # Random Forest Classifier\n",
    "    model = RandomForestClassifier(n_estimators=100, random_state=42)\n",
    "    model.fit(X_train, y_train)\n",
    "\n",
    "    # Predictions on test data\n",
    "    y_pred = model.predict(X_test)\n",
    "\n",
    "    # Evaluation\n",
    "    print(classification_report(y_test, y_pred, target_names=label_encoder.classes_))\n",
    "\n",
    "if __name__ == \"__main__\":\n",
    "    mainBareBones()\n"
   ],
   "outputs": [
    {
     "name": "stdout",
     "output_type": "stream",
     "text": [
      "              precision    recall  f1-score   support\n",
      "\n",
      "  hatespeech       0.72      0.66      0.69      1325\n",
      "      normal       0.56      0.84      0.67      1502\n",
      "   offensive       0.60      0.29      0.39      1195\n",
      "\n",
      "    accuracy                           0.62      4022\n",
      "   macro avg       0.63      0.60      0.58      4022\n",
      "weighted avg       0.63      0.62      0.59      4022\n",
      "\n"
     ]
    }
   ],
   "execution_count": 2
  },
  {
   "metadata": {
    "ExecuteTime": {
     "end_time": "2025-03-15T00:45:36.072066Z",
     "start_time": "2025-03-15T00:45:12.819506Z"
    }
   },
   "cell_type": "code",
   "source": [
    "def mainCuPY():\n",
    "    # Load the dataset\n",
    "    data = pd.read_csv('final_hateXplain.csv', dtype={\n",
    "        'comment': 'string',  \n",
    "        'label': 'category', \n",
    "        'Race': 'category',\n",
    "        'Religion': 'category',\n",
    "        'Gender': 'category',\n",
    "        'Sexual Orientation': 'category',\n",
    "        'Miscellaneous': 'category'\n",
    "    })\n",
    "\n",
    "    # Preprocessing\n",
    "    # Fill missing values in the 'comment' column\n",
    "    data['comment'] = data['comment'].fillna('')\n",
    "\n",
    "    # Encode the 'label' column (e.g., normal, offensive, hatespeech)\n",
    "    label_encoder = LabelEncoder()\n",
    "    data['label'] = label_encoder.fit_transform(data['label'])\n",
    "\n",
    "    # TF-IDF Vectorization for the 'comment' column\n",
    "    tfidf = TfidfVectorizer(max_features=5000)\n",
    "    X = tfidf.fit_transform(data['comment'])\n",
    "\n",
    "    # Convert sparse matrix to CuPy\n",
    "    X = cp.sparse.csr_matrix(X)\n",
    "\n",
    "    # Target variable\n",
    "    y = cp.asarray(data['label'])\n",
    "\n",
    "    X_train, X_test, y_train, y_test = train_test_split(X, y, test_size=0.2, random_state=42)\n",
    "\n",
    "    model = RandomForestClassifier(n_estimators=100, random_state=42)\n",
    "    model.fit(X_train.get(), y_train.get())\n",
    "\n",
    "    # Predictions on test data\n",
    "    y_pred = model.predict(X_test.get())\n",
    "\n",
    "    # Evaluation\n",
    "    print(classification_report(y_test.get(), y_pred, target_names=label_encoder.classes_))\n",
    "\n",
    "if __name__ == \"__main__\":\n",
    "    mainCuPY()\n"
   ],
   "id": "1e6232f98cba2a35",
   "outputs": [
    {
     "name": "stdout",
     "output_type": "stream",
     "text": [
      "              precision    recall  f1-score   support\n",
      "\n",
      "  hatespeech       0.72      0.66      0.69      1325\n",
      "      normal       0.56      0.84      0.67      1502\n",
      "   offensive       0.60      0.29      0.39      1195\n",
      "\n",
      "    accuracy                           0.62      4022\n",
      "   macro avg       0.63      0.60      0.58      4022\n",
      "weighted avg       0.63      0.62      0.59      4022\n",
      "\n"
     ]
    }
   ],
   "execution_count": 3
  },
  {
   "metadata": {
    "ExecuteTime": {
     "end_time": "2025-03-15T00:45:36.208730Z",
     "start_time": "2025-03-15T00:45:36.145718Z"
    }
   },
   "cell_type": "code",
   "source": "patch_sklearn()  # Apply Intel optimizations",
   "id": "36cd9ca21b8fbcbe",
   "outputs": [
    {
     "name": "stderr",
     "output_type": "stream",
     "text": [
      "Intel(R) Extension for Scikit-learn* enabled (https://github.com/intel/scikit-learn-intelex)\n"
     ]
    }
   ],
   "execution_count": 4
  },
  {
   "metadata": {
    "ExecuteTime": {
     "end_time": "2025-03-15T00:45:59.591289Z",
     "start_time": "2025-03-15T00:45:36.284723Z"
    }
   },
   "cell_type": "code",
   "source": [
    "def mainIntelex():\n",
    "    # Load the dataset\n",
    "    data = pd.read_csv('final_hateXplain.csv', dtype={\n",
    "        'comment': 'string',  \n",
    "        'label': 'category', \n",
    "        'Race': 'category',\n",
    "        'Religion': 'category',\n",
    "        'Gender': 'category',\n",
    "        'Sexual Orientation': 'category',\n",
    "        'Miscellaneous': 'category'\n",
    "    })\n",
    "\n",
    "    # Preprocessing\n",
    "    # Fill missing values in the 'comment' column\n",
    "    data['comment'] = data['comment'].fillna('')\n",
    "\n",
    "    # Encode the 'label' column (e.g., normal, offensive, hatespeech)\n",
    "    label_encoder = LabelEncoder()\n",
    "    data['label'] = label_encoder.fit_transform(data['label'])\n",
    "\n",
    "    # TF-IDF Vectorization for the 'comment' column\n",
    "    tfidf = TfidfVectorizer(max_features=5000)\n",
    "    X = tfidf.fit_transform(data['comment'])\n",
    "\n",
    "    # Target variable\n",
    "    y = data['label']\n",
    "\n",
    "    # Train-test split\n",
    "    X_train, X_test, y_train, y_test = train_test_split(X, y, test_size=0.2, random_state=42)\n",
    "\n",
    "    # Random Forest Classifier\n",
    "    model = RandomForestClassifier(n_estimators=100, random_state=42)\n",
    "    model.fit(X_train, y_train)\n",
    "\n",
    "    # Predictions on test data\n",
    "    y_pred = model.predict(X_test)\n",
    "\n",
    "    # Evaluation\n",
    "    print(classification_report(y_test, y_pred, target_names=label_encoder.classes_))\n",
    "\n",
    "if __name__ == \"__main__\":\n",
    "    mainIntelex()\n"
   ],
   "id": "40659ba25ad6ba3",
   "outputs": [
    {
     "name": "stdout",
     "output_type": "stream",
     "text": [
      "              precision    recall  f1-score   support\n",
      "\n",
      "  hatespeech       0.72      0.66      0.69      1325\n",
      "      normal       0.56      0.84      0.67      1502\n",
      "   offensive       0.60      0.29      0.39      1195\n",
      "\n",
      "    accuracy                           0.62      4022\n",
      "   macro avg       0.63      0.60      0.58      4022\n",
      "weighted avg       0.63      0.62      0.59      4022\n",
      "\n"
     ]
    }
   ],
   "execution_count": 5
  }
 ],
 "metadata": {
  "kernelspec": {
   "display_name": "Python 3",
   "language": "python",
   "name": "python3"
  },
  "language_info": {
   "codemirror_mode": {
    "name": "ipython",
    "version": 2
   },
   "file_extension": ".py",
   "mimetype": "text/x-python",
   "name": "python",
   "nbconvert_exporter": "python",
   "pygments_lexer": "ipython2",
   "version": "2.7.6"
  }
 },
 "nbformat": 4,
 "nbformat_minor": 5
}
