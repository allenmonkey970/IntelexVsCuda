{
 "cells": [
  {
   "cell_type": "code",
   "id": "initial_id",
   "metadata": {
    "collapsed": true,
    "ExecuteTime": {
     "end_time": "2025-03-05T08:13:32.307297Z",
     "start_time": "2025-03-05T08:13:32.287861Z"
    }
   },
   "source": [
    "import numpy as np\n",
    "from sklearn.datasets import load_iris\n",
    "from sklearn.model_selection import train_test_split\n",
    "from sklearn.ensemble import RandomForestClassifier\n",
    "from sklearn.metrics import accuracy_score, classification_report\n",
    "\n",
    "def main():\n",
    "    # Load the Iris dataset.\n",
    "    data = load_iris()\n",
    "    X, y = data.data, data.target\n",
    "\n",
    "    # Split the data into training and testing sets.\n",
    "    X_train, X_test, y_train, y_test = train_test_split(X, y, test_size=0.2, random_state=42)\n",
    "\n",
    "    # Initialize and train the Random Forest classifier.\n",
    "    clf = RandomForestClassifier(random_state=42)\n",
    "    clf.fit(X_train, y_train)\n",
    "\n",
    "    # Predict on the test set.\n",
    "    y_pred = clf.predict(X_test)\n",
    "\n",
    "    # Evaluate and print out the results.\n",
    "    print(\"Accuracy: {:.2f}%\".format(accuracy_score(y_test, y_pred) * 100))\n",
    "    print(\"\\nClassification Report:\\n\", classification_report(y_test, y_pred))\n",
    "\n",
    "if __name__ == \"__main__\":\n",
    "    main()"
   ],
   "outputs": [
    {
     "name": "stdout",
     "output_type": "stream",
     "text": [
      "Accuracy: 100.00%\n",
      "\n",
      "Classification Report:\n",
      "               precision    recall  f1-score   support\n",
      "\n",
      "           0       1.00      1.00      1.00        10\n",
      "           1       1.00      1.00      1.00         9\n",
      "           2       1.00      1.00      1.00        11\n",
      "\n",
      "    accuracy                           1.00        30\n",
      "   macro avg       1.00      1.00      1.00        30\n",
      "weighted avg       1.00      1.00      1.00        30\n",
      "\n"
     ]
    }
   ],
   "execution_count": 32
  },
  {
   "metadata": {
    "ExecuteTime": {
     "end_time": "2025-03-05T08:23:58.330351Z",
     "start_time": "2025-03-05T08:23:58.324531Z"
    }
   },
   "cell_type": "code",
   "source": [
    "from sklearnex import unpatch_sklearn\n",
    "import warnings\n",
    "warnings.filterwarnings(\"ignore\", message=\"'force_all_finite' was renamed to 'ensure_all_finite'\")\n",
    "\n",
    "import numpy as np\n",
    "from sklearn.datasets import load_iris\n",
    "from sklearn.model_selection import train_test_split\n",
    "from sklearn.ensemble import RandomForestClassifier\n",
    "from sklearn.metrics import accuracy_score, classification_report\n",
    "from sklearnex import patch_sklearn\n",
    "\n",
    "def main():\n",
    "    # Enable scikit-learn intelex optimizations\n",
    "    patch_sklearn()\n",
    "\n",
    "    # Load the Iris dataset.\n",
    "    data = load_iris()\n",
    "    X, y = data.data, data.target\n",
    "\n",
    "    # Split the data into training and testing sets.\n",
    "    X_train, X_test, y_train, y_test = train_test_split(X, y, test_size=0.2, random_state=42)\n",
    "\n",
    "    # Initialize and train the Random Forest classifier.\n",
    "    clf = RandomForestClassifier(random_state=42)\n",
    "    clf.fit(X_train, y_train)\n",
    "\n",
    "    # Predict on the test set.\n",
    "    y_pred = clf.predict(X_test)\n",
    "    \n",
    "    # Disable scikit-learn intelex optimizations\n",
    "    unpatch_sklearn()\n",
    "    \n",
    "    # Evaluate and print out the results.\n",
    "    print(\"Accuracy: {:.2f}%\".format(accuracy_score(y_test, y_pred) * 100))\n",
    "    print(\"\\nClassification Report:\\n\", classification_report(y_test, y_pred))\n"
   ],
   "id": "9ffd69d93796f8d0",
   "outputs": [],
   "execution_count": 36
  },
  {
   "metadata": {
    "ExecuteTime": {
     "end_time": "2025-03-05T08:23:53.345035Z",
     "start_time": "2025-03-05T08:23:53.322906Z"
    }
   },
   "cell_type": "code",
   "source": [
    "import cupy as cp\n",
    "import numpy as np\n",
    "from sklearn.datasets import load_iris\n",
    "from sklearn.model_selection import train_test_split\n",
    "from sklearn.ensemble import RandomForestClassifier\n",
    "from sklearn.metrics import accuracy_score, classification_report\n",
    "\n",
    "def main():\n",
    "    # Load the Iris dataset\n",
    "    data = load_iris()\n",
    "    X, y = data.data, data.target\n",
    "\n",
    "    # Convert the data to CuPy arrays\n",
    "    X = cp.array(X)\n",
    "    y = cp.array(y)\n",
    "\n",
    "    # Split the data into training and testing sets\n",
    "    X_train, X_test, y_train, y_test = train_test_split(X, y, test_size=0.2, random_state=42)\n",
    "\n",
    "    # Initialize and train the Random Forest classifier\n",
    "    clf = RandomForestClassifier(random_state=42)\n",
    "    clf.fit(cp.asnumpy(X_train), cp.asnumpy(y_train))  # Convert CuPy arrays back to NumPy for scikit-learn\n",
    "\n",
    "    # Predict on the test set\n",
    "    y_pred = clf.predict(cp.asnumpy(X_test))  # Convert CuPy array back to NumPy\n",
    "\n",
    "    # Evaluate and print out the results\n",
    "    print(\"Accuracy: {:.2f}%\".format(accuracy_score(cp.asnumpy(y_test), y_pred) * 100))\n",
    "    print(\"\\nClassification Report:\\n\", classification_report(cp.asnumpy(y_test), y_pred))\n",
    "\n",
    "if __name__ == \"__main__\":\n",
    "    main()\n"
   ],
   "id": "d5b28f5bbfa588b3",
   "outputs": [
    {
     "name": "stdout",
     "output_type": "stream",
     "text": [
      "Accuracy: 100.00%\n",
      "\n",
      "Classification Report:\n",
      "               precision    recall  f1-score   support\n",
      "\n",
      "           0       1.00      1.00      1.00        10\n",
      "           1       1.00      1.00      1.00         9\n",
      "           2       1.00      1.00      1.00        11\n",
      "\n",
      "    accuracy                           1.00        30\n",
      "   macro avg       1.00      1.00      1.00        30\n",
      "weighted avg       1.00      1.00      1.00        30\n",
      "\n"
     ]
    }
   ],
   "execution_count": 35
  }
 ],
 "metadata": {
  "kernelspec": {
   "display_name": "Python 3",
   "language": "python",
   "name": "python3"
  },
  "language_info": {
   "codemirror_mode": {
    "name": "ipython",
    "version": 2
   },
   "file_extension": ".py",
   "mimetype": "text/x-python",
   "name": "python",
   "nbconvert_exporter": "python",
   "pygments_lexer": "ipython2",
   "version": "2.7.6"
  }
 },
 "nbformat": 4,
 "nbformat_minor": 5
}
