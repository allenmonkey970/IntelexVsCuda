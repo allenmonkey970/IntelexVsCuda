{
 "cells": [
  {
   "metadata": {},
   "cell_type": "markdown",
   "source": "Dataset can be downloaded from https://www.kaggle.com/datasets/amrmaree/student-performance-prediction?resource=download ",
   "id": "c82f94d8907337d8"
  },
  {
   "metadata": {
    "ExecuteTime": {
     "end_time": "2025-03-06T04:26:28.617611Z",
     "start_time": "2025-03-06T04:26:26.911459Z"
    }
   },
   "cell_type": "code",
   "outputs": [
    {
     "name": "stdout",
     "output_type": "stream",
     "text": [
      "Accuracy: 100.00%\n",
      "     Actual  Predicted\n",
      "120       0          0\n",
      "247       1          1\n",
      "324       1          1\n",
      "204       1          1\n",
      "603       1          1\n"
     ]
    }
   ],
   "execution_count": 1,
   "source": [
    "import pandas as pd\n",
    "from sklearn.model_selection import train_test_split\n",
    "from sklearn.preprocessing import LabelEncoder\n",
    "from sklearn.ensemble import RandomForestClassifier\n",
    "from sklearn.metrics import accuracy_score\n",
    "\n",
    "def main():\n",
    "    # Load the Data\n",
    "    data = pd.read_csv(\"student_performance_dataset.csv\")\n",
    "    \n",
    "    # Preprocess the Data\n",
    "    label_encoder = LabelEncoder()\n",
    "    data['Gender'] = label_encoder.fit_transform(data['Gender'])\n",
    "    data['Parental_Education_Level'] = label_encoder.fit_transform(data['Parental_Education_Level'])\n",
    "    data['Internet_Access_at_Home'] = label_encoder.fit_transform(data['Internet_Access_at_Home'])\n",
    "    data['Extracurricular_Activities'] = label_encoder.fit_transform(data['Extracurricular_Activities'])\n",
    "    data['Pass_Fail'] = label_encoder.fit_transform(data['Pass_Fail'])\n",
    "    \n",
    "    # Split the Data\n",
    "    X = data.drop(['Student_ID', 'Pass_Fail'], axis=1)\n",
    "    y = data['Pass_Fail']\n",
    "    \n",
    "    X_train, X_test, y_train, y_test = train_test_split(X, y, test_size=0.2, random_state=42)\n",
    "    \n",
    "    # Train the Model\n",
    "    model = RandomForestClassifier(random_state=42)\n",
    "    model.fit(X_train, y_train)\n",
    "    \n",
    "    # Evaluate the Model\n",
    "    y_pred = model.predict(X_test)\n",
    "    accuracy = accuracy_score(y_test, y_pred)\n",
    "    print(f\"Accuracy: {accuracy * 100:.2f}%\")\n",
    "    \n",
    "    # Print some predictions\n",
    "    predictions_df = pd.DataFrame({'Actual': y_test, 'Predicted': y_pred})\n",
    "    print(predictions_df.head())\n",
    "\n",
    "if __name__ == \"__main__\":\n",
    "    main()"
   ],
   "id": "15212365bef983c3"
  },
  {
   "metadata": {
    "ExecuteTime": {
     "end_time": "2025-03-06T04:26:29.207082Z",
     "start_time": "2025-03-06T04:26:28.627116Z"
    }
   },
   "cell_type": "code",
   "outputs": [
    {
     "name": "stdout",
     "output_type": "stream",
     "text": [
      "Accuracy: 100.00%\n",
      "   Actual  Predicted\n",
      "0       0          0\n",
      "1       1          1\n",
      "2       1          1\n",
      "3       1          1\n",
      "4       1          1\n"
     ]
    }
   ],
   "execution_count": 2,
   "source": [
    "import pandas as pd\n",
    "import cupy as cp\n",
    "from sklearn.model_selection import train_test_split\n",
    "from sklearn.preprocessing import LabelEncoder\n",
    "from sklearn.ensemble import RandomForestClassifier\n",
    "from sklearn.metrics import accuracy_score\n",
    "\n",
    "def main():\n",
    "    # Load the Data\n",
    "    data = pd.read_csv(\"student_performance_dataset.csv\")\n",
    "    \n",
    "    # Preprocess the Data\n",
    "    label_encoder = LabelEncoder()\n",
    "    data['Gender'] = label_encoder.fit_transform(data['Gender'])\n",
    "    data['Parental_Education_Level'] = label_encoder.fit_transform(data['Parental_Education_Level'])\n",
    "    data['Internet_Access_at_Home'] = label_encoder.fit_transform(data['Internet_Access_at_Home'])\n",
    "    data['Extracurricular_Activities'] = label_encoder.fit_transform(data['Extracurricular_Activities'])\n",
    "    data['Pass_Fail'] = label_encoder.fit_transform(data['Pass_Fail'])\n",
    "    \n",
    "    # Convert DataFrame to cuPy array\n",
    "    X = data.drop(['Student_ID', 'Pass_Fail'], axis=1).to_numpy()\n",
    "    y = data['Pass_Fail'].to_numpy()\n",
    "    \n",
    "    X = cp.asarray(X)\n",
    "    y = cp.asarray(y)\n",
    "    \n",
    "    # Split the Data\n",
    "    X_train, X_test, y_train, y_test = train_test_split(X, y, test_size=0.2, random_state=42)\n",
    "    \n",
    "    # Train the Model using CPU-based RandomForest\n",
    "    model = RandomForestClassifier(random_state=42)\n",
    "    model.fit(cp.asnumpy(X_train), cp.asnumpy(y_train))\n",
    "    \n",
    "    # Evaluate the Model\n",
    "    y_pred = model.predict(cp.asnumpy(X_test))\n",
    "    accuracy = accuracy_score(cp.asnumpy(y_test), y_pred)\n",
    "    print(f\"Accuracy: {accuracy * 100:.2f}%\")\n",
    "    \n",
    "    # Print some predictions\n",
    "    predictions_df = pd.DataFrame({'Actual': cp.asnumpy(y_test), 'Predicted': y_pred})\n",
    "    print(predictions_df.head())\n",
    "\n",
    "if __name__ == \"__main__\":\n",
    "    main()\n"
   ],
   "id": "a6a3f584b23c40a4"
  },
  {
   "metadata": {},
   "cell_type": "code",
   "outputs": [],
   "execution_count": null,
   "source": [
    "import pandas as pd\n",
    "from sklearnex import patch_sklearn\n",
    "patch_sklearn()  # Apply the patch to scikit-learn\n",
    "import warnings\n",
    "from sklearn.model_selection import train_test_split\n",
    "from sklearn.preprocessing import LabelEncoder\n",
    "from sklearn.ensemble import RandomForestClassifier\n",
    "from sklearn.metrics import accuracy_score\n",
    "\n",
    "def main():\n",
    "    # suppress warnings\n",
    "    warnings.filterwarnings(\"ignore\", category=FutureWarning)\n",
    "    # Load the Data\n",
    "    data = pd.read_csv(\"student_performance_dataset.csv\")\n",
    "    \n",
    "    # Preprocess the Data\n",
    "    label_encoder = LabelEncoder()\n",
    "    data['Gender'] = label_encoder.fit_transform(data['Gender'])\n",
    "    data['Parental_Education_Level'] = label_encoder.fit_transform(data['Parental_Education_Level'])\n",
    "    data['Internet_Access_at_Home'] = label_encoder.fit_transform(data['Internet_Access_at_Home'])\n",
    "    data['Extracurricular_Activities'] = label_encoder.fit_transform(data['Extracurricular_Activities'])\n",
    "    data['Pass_Fail'] = label_encoder.fit_transform(data['Pass_Fail'])\n",
    "    \n",
    "    # Split the Data\n",
    "    X = data.drop(['Student_ID', 'Pass_Fail'], axis=1)\n",
    "    y = data['Pass_Fail']\n",
    "    \n",
    "    X_train, X_test, y_train, y_test = train_test_split(X, y, test_size=0.2, random_state=42)\n",
    "    \n",
    "    # Train the Model\n",
    "    model = RandomForestClassifier(random_state=42)\n",
    "    model.fit(X_train, y_train)\n",
    "    \n",
    "    # Evaluate the Model\n",
    "    y_pred = model.predict(X_test)\n",
    "    accuracy = accuracy_score(y_test, y_pred)\n",
    "    print(f\"Accuracy: {accuracy * 100:.2f}%\")\n",
    "    \n",
    "    # Print some predictions\n",
    "    predictions_df = pd.DataFrame({'Actual': y_test, 'Predicted': y_pred})\n",
    "    print(predictions_df.head())\n",
    "\n",
    "if __name__ == \"__main__\":\n",
    "    main()\n"
   ],
   "id": "75ae0464ee0524cd"
  }
 ],
 "metadata": {
  "kernelspec": {
   "display_name": "Python 3",
   "language": "python",
   "name": "python3"
  },
  "language_info": {
   "codemirror_mode": {
    "name": "ipython",
    "version": 2
   },
   "file_extension": ".py",
   "mimetype": "text/x-python",
   "name": "python",
   "nbconvert_exporter": "python",
   "pygments_lexer": "ipython2",
   "version": "2.7.6"
  }
 },
 "nbformat": 4,
 "nbformat_minor": 5
}
