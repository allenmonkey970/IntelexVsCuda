{
 "cells": [
  {
   "metadata": {},
   "cell_type": "markdown",
   "source": [
    "Dataset can be downloaded from https://www.kaggle.com/datasets/amrmaree/student-performance-prediction?resource=download \n",
    "### 1. Barebones (Standard Scikit-Learn)\n",
    "**Description:**\n",
    "- This function loads and preprocesses the student performance dataset.\n",
    "- It splits the data into training and testing sets.\n",
    "- It trains an XGBoost model on the training data using default scikit-learn settings.\n",
    "- The model is then used to predict outcomes on the testing data.\n",
    "- The accuracy of the model is calculated and printed.\n",
    "- Some example predictions are printed to compare actual vs. predicted values.\n",
    "\n",
    "### 2. Using cuPY with NVIDIA GPU for XGBoost\n",
    "**Description:**\n",
    "- This function leverages cuPY for GPU acceleration and NVIDIA GPU for training the XGBoost model.\n",
    "- The student performance dataset is loaded and preprocessed, and then converted to cuPY arrays.\n",
    "- The data is split into training and testing sets using cuPY.\n",
    "- An XGBoost model with GPU support is trained on the training data.\n",
    "- The model predicts outcomes on the testing data, and the accuracy is calculated and printed.\n",
    "- Some example predictions are printed to compare actual vs. predicted values.\n",
    "- The `device` parameter is set to `cuda` for GPU training.\n",
    "\n",
    "### 3. Using Intelex (Intel Optimizations)\n",
    "**Description:**\n",
    "- This function applies the Intel Extension for Scikit-learn to speed up computations.\n",
    "- The student performance dataset is loaded and preprocessed.\n",
    "- The data is split into training and testing sets.\n",
    "- An XGBoost model is trained using Intel optimizations on the training data.\n",
    "- The model predicts outcomes on the testing data, and the accuracy is calculated and printed.\n",
    "- Some example predictions are printed to compare actual vs. predicted values."
   ],
   "id": "e5b662d24cb39bdc"
  },
  {
   "metadata": {
    "ExecuteTime": {
     "end_time": "2025-03-06T04:48:52.588749Z",
     "start_time": "2025-03-06T04:48:51.029920Z"
    }
   },
   "cell_type": "code",
   "source": [
    "import warnings\n",
    "import pandas as pd\n",
    "import xgboost as xgb\n",
    "from sklearn.model_selection import train_test_split\n",
    "from sklearn.preprocessing import LabelEncoder\n",
    "from sklearn.metrics import accuracy_score\n",
    "\n",
    "def main_barebones():\n",
    "    # Suppress warnings\n",
    "    warnings.filterwarnings(\"ignore\", category=FutureWarning)\n",
    "    \n",
    "    # Load the Data\n",
    "    data = pd.read_csv(\"student_performance_dataset.csv\")\n",
    "    \n",
    "    # Preprocess the Data\n",
    "    label_encoder = LabelEncoder()\n",
    "    data['Gender'] = label_encoder.fit_transform(data['Gender'])\n",
    "    data['Parental_Education_Level'] = label_encoder.fit_transform(data['Parental_Education_Level'])\n",
    "    data['Internet_Access_at_Home'] = label_encoder.fit_transform(data['Internet_Access_at_Home'])\n",
    "    data['Extracurricular_Activities'] = label_encoder.fit_transform(data['Extracurricular_Activities'])\n",
    "    data['Pass_Fail'] = label_encoder.fit_transform(data['Pass_Fail'])\n",
    "    \n",
    "    # Split the Data\n",
    "    X = data.drop(['Student_ID', 'Pass_Fail'], axis=1)\n",
    "    y = data['Pass_Fail']\n",
    "    \n",
    "    X_train, X_test, y_train, y_test = train_test_split(X, y, test_size=0.2, random_state=42)\n",
    "    \n",
    "    # Train the Model using XGBoost\n",
    "    dtrain = xgb.DMatrix(X_train, label=y_train)\n",
    "    dtest = xgb.DMatrix(X_test, label=y_test)\n",
    "    \n",
    "    params = {'objective': 'binary:logistic', 'random_state': 42}\n",
    "    model = xgb.train(params, dtrain, num_boost_round=100)\n",
    "    \n",
    "    # Evaluate the Model\n",
    "    y_pred = (model.predict(dtest) > 0.5).astype(int)\n",
    "    accuracy = accuracy_score(y_test, y_pred)\n",
    "    print(f\"Accuracy (Barebones): {accuracy * 100:.2f}%\")\n",
    "    \n",
    "    # Print some predictions\n",
    "    predictions_df = pd.DataFrame({'Actual': y_test, 'Predicted': y_pred})\n",
    "    print(predictions_df.head())\n",
    "\n",
    "if __name__ == \"__main__\":\n",
    "    main_barebones()\n"
   ],
   "id": "304c9803fe14a617",
   "outputs": [
    {
     "name": "stdout",
     "output_type": "stream",
     "text": [
      "Accuracy (Barebones): 100.00%\n",
      "     Actual  Predicted\n",
      "120       0          0\n",
      "247       1          1\n",
      "324       1          1\n",
      "204       1          1\n",
      "603       1          1\n"
     ]
    }
   ],
   "execution_count": 1
  },
  {
   "metadata": {},
   "cell_type": "markdown",
   "source": "Using cuPy",
   "id": "bd573f0e9951604e"
  },
  {
   "metadata": {
    "ExecuteTime": {
     "end_time": "2025-03-06T04:48:53.167661Z",
     "start_time": "2025-03-06T04:48:52.595562Z"
    }
   },
   "cell_type": "code",
   "source": [
    "import warnings\n",
    "import pandas as pd\n",
    "import cupy as cp\n",
    "import xgboost as xgb\n",
    "from sklearn.model_selection import train_test_split\n",
    "from sklearn.preprocessing import LabelEncoder\n",
    "from sklearn.metrics import accuracy_score\n",
    "\n",
    "def main_cupy_gpu():\n",
    "    # Suppress warnings\n",
    "    warnings.filterwarnings(\"ignore\", category=FutureWarning)\n",
    "    \n",
    "    # Load the Data\n",
    "    data = pd.read_csv(\"student_performance_dataset.csv\")\n",
    "    \n",
    "    # Preprocess the Data\n",
    "    label_encoder = LabelEncoder()\n",
    "    data['Gender'] = label_encoder.fit_transform(data['Gender'])\n",
    "    data['Parental_Education_Level'] = label_encoder.fit_transform(data['Parental_Education_Level'])\n",
    "    data['Internet_Access_at_Home'] = label_encoder.fit_transform(data['Internet_Access_at_Home'])\n",
    "    data['Extracurricular_Activities'] = label_encoder.fit_transform(data['Extracurricular_Activities'])\n",
    "    data['Pass_Fail'] = label_encoder.fit_transform(data['Pass_Fail'])\n",
    "    \n",
    "    # Convert DataFrame to cuPy array\n",
    "    X = data.drop(['Student_ID', 'Pass_Fail'], axis=1).to_numpy()\n",
    "    y = data['Pass_Fail'].to_numpy()\n",
    "    \n",
    "    X = cp.asarray(X)\n",
    "    y = cp.asarray(y)\n",
    "    \n",
    "    # Split the Data\n",
    "    X_train, X_test, y_train, y_test = train_test_split(X, y, test_size=0.2, random_state=42)\n",
    "    \n",
    "    # Train the Model using XGBoost with GPU support\n",
    "    dtrain = xgb.DMatrix(cp.asnumpy(X_train), label=cp.asnumpy(y_train))\n",
    "    dtest = xgb.DMatrix(cp.asnumpy(X_test), label=cp.asnumpy(y_test))\n",
    "    \n",
    "    params = {\n",
    "        'objective': 'binary:logistic',\n",
    "        'tree_method': 'hist',  \n",
    "        'device': 'cuda',       # Use GPU\n",
    "        'random_state': 42\n",
    "    }\n",
    "    model = xgb.train(params, dtrain, num_boost_round=100)\n",
    "    \n",
    "    # Evaluate the Model\n",
    "    y_pred = (model.predict(dtest) > 0.5).astype(int)\n",
    "    accuracy = accuracy_score(cp.asnumpy(y_test), y_pred)\n",
    "    print(f\"Accuracy (cuPY + GPU): {accuracy * 100:.2f}%\")\n",
    "    \n",
    "    # Print some predictions\n",
    "    predictions_df = pd.DataFrame({'Actual': cp.asnumpy(y_test), 'Predicted': y_pred})\n",
    "    print(predictions_df.head())\n",
    "\n",
    "if __name__ == \"__main__\":\n",
    "    main_cupy_gpu()\n"
   ],
   "id": "c4c4b3dc26b23ac1",
   "outputs": [
    {
     "name": "stdout",
     "output_type": "stream",
     "text": [
      "Accuracy (cuPY + GPU): 100.00%\n",
      "   Actual  Predicted\n",
      "0       0          0\n",
      "1       1          1\n",
      "2       1          1\n",
      "3       1          1\n",
      "4       1          1\n"
     ]
    }
   ],
   "execution_count": 2
  },
  {
   "metadata": {},
   "cell_type": "markdown",
   "source": "Using Intelex",
   "id": "638b21f7a9cb661a"
  },
  {
   "metadata": {
    "ExecuteTime": {
     "end_time": "2025-03-06T04:48:53.802996Z",
     "start_time": "2025-03-06T04:48:53.350302Z"
    }
   },
   "cell_type": "code",
   "source": [
    "import warnings\n",
    "import pandas as pd\n",
    "import xgboost as xgb\n",
    "from sklearnex import patch_sklearn\n",
    "patch_sklearn()  # Apply the patch to scikit-learn\n",
    "\n",
    "from sklearn.model_selection import train_test_split\n",
    "from sklearn.preprocessing import LabelEncoder\n",
    "from sklearn.metrics import accuracy_score\n",
    "\n",
    "def main_intelex():\n",
    "    # Suppress warnings\n",
    "    warnings.filterwarnings(\"ignore\", category=FutureWarning)\n",
    "    \n",
    "    # Load the Data\n",
    "    data = pd.read_csv(\"student_performance_dataset.csv\")\n",
    "    \n",
    "    # Preprocess the Data\n",
    "    label_encoder = LabelEncoder()\n",
    "    data['Gender'] = label_encoder.fit_transform(data['Gender'])\n",
    "    data['Parental_Education_Level'] = label_encoder.fit_transform(data['Parental_Education_Level'])\n",
    "    data['Internet_Access_at_Home'] = label_encoder.fit_transform(data['Internet_Access_at_Home'])\n",
    "    data['Extracurricular_Activities'] = label_encoder.fit_transform(data['Extracurricular_Activities'])\n",
    "    data['Pass_Fail'] = label_encoder.fit_transform(data['Pass_Fail'])\n",
    "    \n",
    "    # Split the Data\n",
    "    X = data.drop(['Student_ID', 'Pass_Fail'], axis=1)\n",
    "    y = data['Pass_Fail']\n",
    "    \n",
    "    X_train, X_test, y_train, y_test = train_test_split(X, y, test_size=0.2, random_state=42)\n",
    "    \n",
    "    # Train the Model using XGBoost\n",
    "    dtrain = xgb.DMatrix(X_train, label=y_train)\n",
    "    dtest = xgb.DMatrix(X_test, label=y_test)\n",
    "    \n",
    "    params = {'objective': 'binary:logistic', 'random_state': 42}\n",
    "    model = xgb.train(params, dtrain, num_boost_round=100)\n",
    "    \n",
    "    # Evaluate the Model\n",
    "    y_pred = (model.predict(dtest) > 0.5).astype(int)\n",
    "    accuracy = accuracy_score(y_test, y_pred)\n",
    "    print(f\"Accuracy (Intelex): {accuracy * 100:.2f}%\")\n",
    "    \n",
    "    # Print some predictions\n",
    "    predictions_df = pd.DataFrame({'Actual': y_test, 'Predicted': y_pred})\n",
    "    print(predictions_df.head())\n",
    "\n",
    "if __name__ == \"__main__\":\n",
    "    main_intelex()\n"
   ],
   "id": "5beb2fa8068f25eb",
   "outputs": [
    {
     "name": "stdout",
     "output_type": "stream",
     "text": [
      "Accuracy (Intelex): 100.00%\n",
      "     Actual  Predicted\n",
      "120       0          0\n",
      "247       1          1\n",
      "324       1          1\n",
      "204       1          1\n",
      "603       1          1\n"
     ]
    },
    {
     "name": "stderr",
     "output_type": "stream",
     "text": [
      "Intel(R) Extension for Scikit-learn* enabled (https://github.com/intel/scikit-learn-intelex)\n"
     ]
    }
   ],
   "execution_count": 3
  }
 ],
 "metadata": {
  "kernelspec": {
   "display_name": "Python 3",
   "language": "python",
   "name": "python3"
  },
  "language_info": {
   "codemirror_mode": {
    "name": "ipython",
    "version": 2
   },
   "file_extension": ".py",
   "mimetype": "text/x-python",
   "name": "python",
   "nbconvert_exporter": "python",
   "pygments_lexer": "ipython2",
   "version": "2.7.6"
  }
 },
 "nbformat": 4,
 "nbformat_minor": 5
}
